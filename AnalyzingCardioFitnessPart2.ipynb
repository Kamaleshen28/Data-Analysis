{
  "nbformat": 4,
  "nbformat_minor": 0,
  "metadata": {
    "colab": {
      "name": "DS_CaseStudyTerm2_Final.ipynb",
      "provenance": [],
      "collapsed_sections": [
        "wTUUv2ErmiX2",
        "C3uvmDk7jNF2",
        "Udt2YWI6FEiu",
        "a9Ezb3RLovJ7",
        "elF5k89aLCoH",
        "XWZF6U0Ow_4d",
        "u99R2vGVsAY4",
        "1kummHb-P3jK",
        "s7c86qFzyeu_",
        "mUGvat30rWXY",
        "1r5NueiuIPnV",
        "8xoLVkTkJjod"
      ],
      "toc_visible": true
    },
    "kernelspec": {
      "name": "python3",
      "display_name": "Python 3"
    },
    "language_info": {
      "name": "python"
    }
  },
  "cells": [
    {
      "cell_type": "markdown",
      "metadata": {
        "id": "PT57PuSEhVc4"
      },
      "source": [
        "#**Importing required libraries:**"
      ]
    },
    {
      "cell_type": "code",
      "metadata": {
        "id": "H8H2-LaCglNV"
      },
      "source": [
        "import pandas as pd\n",
        "import seaborn as sns\n",
        "import numpy as np\n",
        "import matplotlib.pyplot as plt\n",
        "sns.set(color_codes = True)\n",
        "%matplotlib inline\n",
        "from sklearn.preprocessing import LabelEncoder\n",
        "import scipy.stats as stats\n",
        "from sklearn.impute import SimpleImputer"
      ],
      "execution_count": 1,
      "outputs": []
    },
    {
      "cell_type": "markdown",
      "metadata": {
        "id": "6Z4p8Ed_hZXk"
      },
      "source": [
        "\n",
        "# **Loading Dataset**"
      ]
    },
    {
      "cell_type": "code",
      "metadata": {
        "colab": {
          "base_uri": "https://localhost:8080/",
          "height": 224
        },
        "id": "JskpU2Y9g4UI",
        "outputId": "5d5dfb46-e545-4680-a073-0bcc9e9dfbf9"
      },
      "source": [
        "df = pd.read_csv(\"https://raw.githubusercontent.com/Kamaleshen28/Data-Science/main/processedTerm2Dataset.csv\")\n",
        "print(df.shape)\n",
        "df.head()"
      ],
      "execution_count": 2,
      "outputs": [
        {
          "output_type": "stream",
          "name": "stdout",
          "text": [
            "(146, 9)\n"
          ]
        },
        {
          "output_type": "execute_result",
          "data": {
            "text/html": [
              "\n",
              "  <div id=\"df-c43b388c-c347-486f-a5cb-e09e45090f10\">\n",
              "    <div class=\"colab-df-container\">\n",
              "      <div>\n",
              "<style scoped>\n",
              "    .dataframe tbody tr th:only-of-type {\n",
              "        vertical-align: middle;\n",
              "    }\n",
              "\n",
              "    .dataframe tbody tr th {\n",
              "        vertical-align: top;\n",
              "    }\n",
              "\n",
              "    .dataframe thead th {\n",
              "        text-align: right;\n",
              "    }\n",
              "</style>\n",
              "<table border=\"1\" class=\"dataframe\">\n",
              "  <thead>\n",
              "    <tr style=\"text-align: right;\">\n",
              "      <th></th>\n",
              "      <th>Product</th>\n",
              "      <th>Age</th>\n",
              "      <th>Gender</th>\n",
              "      <th>Education</th>\n",
              "      <th>MaritalStatus</th>\n",
              "      <th>Usage</th>\n",
              "      <th>Fitness</th>\n",
              "      <th>Income</th>\n",
              "      <th>Miles</th>\n",
              "    </tr>\n",
              "  </thead>\n",
              "  <tbody>\n",
              "    <tr>\n",
              "      <th>0</th>\n",
              "      <td>TM195</td>\n",
              "      <td>18.0</td>\n",
              "      <td>Male</td>\n",
              "      <td>14.0</td>\n",
              "      <td>Single</td>\n",
              "      <td>3.0</td>\n",
              "      <td>4.0</td>\n",
              "      <td>29562.0</td>\n",
              "      <td>112.0</td>\n",
              "    </tr>\n",
              "    <tr>\n",
              "      <th>1</th>\n",
              "      <td>TM195</td>\n",
              "      <td>19.0</td>\n",
              "      <td>Male</td>\n",
              "      <td>15.0</td>\n",
              "      <td>Single</td>\n",
              "      <td>2.0</td>\n",
              "      <td>3.0</td>\n",
              "      <td>31836.0</td>\n",
              "      <td>75.0</td>\n",
              "    </tr>\n",
              "    <tr>\n",
              "      <th>2</th>\n",
              "      <td>TM195</td>\n",
              "      <td>19.0</td>\n",
              "      <td>Female</td>\n",
              "      <td>14.0</td>\n",
              "      <td>Partnered</td>\n",
              "      <td>4.0</td>\n",
              "      <td>3.0</td>\n",
              "      <td>30699.0</td>\n",
              "      <td>66.0</td>\n",
              "    </tr>\n",
              "    <tr>\n",
              "      <th>3</th>\n",
              "      <td>TM195</td>\n",
              "      <td>19.0</td>\n",
              "      <td>Male</td>\n",
              "      <td>12.0</td>\n",
              "      <td>Single</td>\n",
              "      <td>3.0</td>\n",
              "      <td>3.0</td>\n",
              "      <td>32973.0</td>\n",
              "      <td>85.0</td>\n",
              "    </tr>\n",
              "    <tr>\n",
              "      <th>4</th>\n",
              "      <td>TM195</td>\n",
              "      <td>20.0</td>\n",
              "      <td>Male</td>\n",
              "      <td>13.0</td>\n",
              "      <td>Partnered</td>\n",
              "      <td>4.0</td>\n",
              "      <td>2.0</td>\n",
              "      <td>35247.0</td>\n",
              "      <td>47.0</td>\n",
              "    </tr>\n",
              "  </tbody>\n",
              "</table>\n",
              "</div>\n",
              "      <button class=\"colab-df-convert\" onclick=\"convertToInteractive('df-c43b388c-c347-486f-a5cb-e09e45090f10')\"\n",
              "              title=\"Convert this dataframe to an interactive table.\"\n",
              "              style=\"display:none;\">\n",
              "        \n",
              "  <svg xmlns=\"http://www.w3.org/2000/svg\" height=\"24px\"viewBox=\"0 0 24 24\"\n",
              "       width=\"24px\">\n",
              "    <path d=\"M0 0h24v24H0V0z\" fill=\"none\"/>\n",
              "    <path d=\"M18.56 5.44l.94 2.06.94-2.06 2.06-.94-2.06-.94-.94-2.06-.94 2.06-2.06.94zm-11 1L8.5 8.5l.94-2.06 2.06-.94-2.06-.94L8.5 2.5l-.94 2.06-2.06.94zm10 10l.94 2.06.94-2.06 2.06-.94-2.06-.94-.94-2.06-.94 2.06-2.06.94z\"/><path d=\"M17.41 7.96l-1.37-1.37c-.4-.4-.92-.59-1.43-.59-.52 0-1.04.2-1.43.59L10.3 9.45l-7.72 7.72c-.78.78-.78 2.05 0 2.83L4 21.41c.39.39.9.59 1.41.59.51 0 1.02-.2 1.41-.59l7.78-7.78 2.81-2.81c.8-.78.8-2.07 0-2.86zM5.41 20L4 18.59l7.72-7.72 1.47 1.35L5.41 20z\"/>\n",
              "  </svg>\n",
              "      </button>\n",
              "      \n",
              "  <style>\n",
              "    .colab-df-container {\n",
              "      display:flex;\n",
              "      flex-wrap:wrap;\n",
              "      gap: 12px;\n",
              "    }\n",
              "\n",
              "    .colab-df-convert {\n",
              "      background-color: #E8F0FE;\n",
              "      border: none;\n",
              "      border-radius: 50%;\n",
              "      cursor: pointer;\n",
              "      display: none;\n",
              "      fill: #1967D2;\n",
              "      height: 32px;\n",
              "      padding: 0 0 0 0;\n",
              "      width: 32px;\n",
              "    }\n",
              "\n",
              "    .colab-df-convert:hover {\n",
              "      background-color: #E2EBFA;\n",
              "      box-shadow: 0px 1px 2px rgba(60, 64, 67, 0.3), 0px 1px 3px 1px rgba(60, 64, 67, 0.15);\n",
              "      fill: #174EA6;\n",
              "    }\n",
              "\n",
              "    [theme=dark] .colab-df-convert {\n",
              "      background-color: #3B4455;\n",
              "      fill: #D2E3FC;\n",
              "    }\n",
              "\n",
              "    [theme=dark] .colab-df-convert:hover {\n",
              "      background-color: #434B5C;\n",
              "      box-shadow: 0px 1px 3px 1px rgba(0, 0, 0, 0.15);\n",
              "      filter: drop-shadow(0px 1px 2px rgba(0, 0, 0, 0.3));\n",
              "      fill: #FFFFFF;\n",
              "    }\n",
              "  </style>\n",
              "\n",
              "      <script>\n",
              "        const buttonEl =\n",
              "          document.querySelector('#df-c43b388c-c347-486f-a5cb-e09e45090f10 button.colab-df-convert');\n",
              "        buttonEl.style.display =\n",
              "          google.colab.kernel.accessAllowed ? 'block' : 'none';\n",
              "\n",
              "        async function convertToInteractive(key) {\n",
              "          const element = document.querySelector('#df-c43b388c-c347-486f-a5cb-e09e45090f10');\n",
              "          const dataTable =\n",
              "            await google.colab.kernel.invokeFunction('convertToInteractive',\n",
              "                                                     [key], {});\n",
              "          if (!dataTable) return;\n",
              "\n",
              "          const docLinkHtml = 'Like what you see? Visit the ' +\n",
              "            '<a target=\"_blank\" href=https://colab.research.google.com/notebooks/data_table.ipynb>data table notebook</a>'\n",
              "            + ' to learn more about interactive tables.';\n",
              "          element.innerHTML = '';\n",
              "          dataTable['output_type'] = 'display_data';\n",
              "          await google.colab.output.renderOutput(dataTable, element);\n",
              "          const docLink = document.createElement('div');\n",
              "          docLink.innerHTML = docLinkHtml;\n",
              "          element.appendChild(docLink);\n",
              "        }\n",
              "      </script>\n",
              "    </div>\n",
              "  </div>\n",
              "  "
            ],
            "text/plain": [
              "  Product   Age  Gender  Education  ... Usage  Fitness   Income  Miles\n",
              "0   TM195  18.0    Male       14.0  ...   3.0      4.0  29562.0  112.0\n",
              "1   TM195  19.0    Male       15.0  ...   2.0      3.0  31836.0   75.0\n",
              "2   TM195  19.0  Female       14.0  ...   4.0      3.0  30699.0   66.0\n",
              "3   TM195  19.0    Male       12.0  ...   3.0      3.0  32973.0   85.0\n",
              "4   TM195  20.0    Male       13.0  ...   4.0      2.0  35247.0   47.0\n",
              "\n",
              "[5 rows x 9 columns]"
            ]
          },
          "metadata": {},
          "execution_count": 2
        }
      ]
    },
    {
      "cell_type": "code",
      "metadata": {
        "colab": {
          "base_uri": "https://localhost:8080/"
        },
        "id": "LkXLap7Zm4in",
        "outputId": "48269d45-a13a-45b9-c1f3-1921fba60ad6"
      },
      "source": [
        "df['Product'].unique()"
      ],
      "execution_count": 3,
      "outputs": [
        {
          "output_type": "execute_result",
          "data": {
            "text/plain": [
              "array(['TM195', 'TM498', 'TM798'], dtype=object)"
            ]
          },
          "metadata": {},
          "execution_count": 3
        }
      ]
    },
    {
      "cell_type": "code",
      "metadata": {
        "colab": {
          "base_uri": "https://localhost:8080/",
          "height": 300
        },
        "id": "MEQg8CqXsNOG",
        "outputId": "81136766-d8cd-4dcd-c9fd-3c54748e5e6f"
      },
      "source": [
        "df.describe()"
      ],
      "execution_count": 4,
      "outputs": [
        {
          "output_type": "execute_result",
          "data": {
            "text/html": [
              "\n",
              "  <div id=\"df-9cabb2aa-0c72-43cc-915b-385f94b4915c\">\n",
              "    <div class=\"colab-df-container\">\n",
              "      <div>\n",
              "<style scoped>\n",
              "    .dataframe tbody tr th:only-of-type {\n",
              "        vertical-align: middle;\n",
              "    }\n",
              "\n",
              "    .dataframe tbody tr th {\n",
              "        vertical-align: top;\n",
              "    }\n",
              "\n",
              "    .dataframe thead th {\n",
              "        text-align: right;\n",
              "    }\n",
              "</style>\n",
              "<table border=\"1\" class=\"dataframe\">\n",
              "  <thead>\n",
              "    <tr style=\"text-align: right;\">\n",
              "      <th></th>\n",
              "      <th>Age</th>\n",
              "      <th>Education</th>\n",
              "      <th>Usage</th>\n",
              "      <th>Fitness</th>\n",
              "      <th>Income</th>\n",
              "      <th>Miles</th>\n",
              "    </tr>\n",
              "  </thead>\n",
              "  <tbody>\n",
              "    <tr>\n",
              "      <th>count</th>\n",
              "      <td>146.000000</td>\n",
              "      <td>146.000000</td>\n",
              "      <td>146.000000</td>\n",
              "      <td>146.000000</td>\n",
              "      <td>146.000000</td>\n",
              "      <td>146.000000</td>\n",
              "    </tr>\n",
              "    <tr>\n",
              "      <th>mean</th>\n",
              "      <td>28.006849</td>\n",
              "      <td>15.150685</td>\n",
              "      <td>3.164384</td>\n",
              "      <td>3.075342</td>\n",
              "      <td>48053.650685</td>\n",
              "      <td>88.034247</td>\n",
              "    </tr>\n",
              "    <tr>\n",
              "      <th>std</th>\n",
              "      <td>6.259334</td>\n",
              "      <td>1.266777</td>\n",
              "      <td>0.813908</td>\n",
              "      <td>0.743576</td>\n",
              "      <td>8852.564836</td>\n",
              "      <td>30.364093</td>\n",
              "    </tr>\n",
              "    <tr>\n",
              "      <th>min</th>\n",
              "      <td>18.000000</td>\n",
              "      <td>12.000000</td>\n",
              "      <td>2.000000</td>\n",
              "      <td>2.000000</td>\n",
              "      <td>29562.000000</td>\n",
              "      <td>38.000000</td>\n",
              "    </tr>\n",
              "    <tr>\n",
              "      <th>25%</th>\n",
              "      <td>23.000000</td>\n",
              "      <td>14.000000</td>\n",
              "      <td>3.000000</td>\n",
              "      <td>3.000000</td>\n",
              "      <td>42069.000000</td>\n",
              "      <td>66.000000</td>\n",
              "    </tr>\n",
              "    <tr>\n",
              "      <th>50%</th>\n",
              "      <td>26.000000</td>\n",
              "      <td>16.000000</td>\n",
              "      <td>3.000000</td>\n",
              "      <td>3.000000</td>\n",
              "      <td>48891.000000</td>\n",
              "      <td>85.000000</td>\n",
              "    </tr>\n",
              "    <tr>\n",
              "      <th>75%</th>\n",
              "      <td>33.000000</td>\n",
              "      <td>16.000000</td>\n",
              "      <td>4.000000</td>\n",
              "      <td>3.000000</td>\n",
              "      <td>53439.000000</td>\n",
              "      <td>105.250000</td>\n",
              "    </tr>\n",
              "    <tr>\n",
              "      <th>max</th>\n",
              "      <td>46.000000</td>\n",
              "      <td>18.000000</td>\n",
              "      <td>5.000000</td>\n",
              "      <td>5.000000</td>\n",
              "      <td>68220.000000</td>\n",
              "      <td>180.000000</td>\n",
              "    </tr>\n",
              "  </tbody>\n",
              "</table>\n",
              "</div>\n",
              "      <button class=\"colab-df-convert\" onclick=\"convertToInteractive('df-9cabb2aa-0c72-43cc-915b-385f94b4915c')\"\n",
              "              title=\"Convert this dataframe to an interactive table.\"\n",
              "              style=\"display:none;\">\n",
              "        \n",
              "  <svg xmlns=\"http://www.w3.org/2000/svg\" height=\"24px\"viewBox=\"0 0 24 24\"\n",
              "       width=\"24px\">\n",
              "    <path d=\"M0 0h24v24H0V0z\" fill=\"none\"/>\n",
              "    <path d=\"M18.56 5.44l.94 2.06.94-2.06 2.06-.94-2.06-.94-.94-2.06-.94 2.06-2.06.94zm-11 1L8.5 8.5l.94-2.06 2.06-.94-2.06-.94L8.5 2.5l-.94 2.06-2.06.94zm10 10l.94 2.06.94-2.06 2.06-.94-2.06-.94-.94-2.06-.94 2.06-2.06.94z\"/><path d=\"M17.41 7.96l-1.37-1.37c-.4-.4-.92-.59-1.43-.59-.52 0-1.04.2-1.43.59L10.3 9.45l-7.72 7.72c-.78.78-.78 2.05 0 2.83L4 21.41c.39.39.9.59 1.41.59.51 0 1.02-.2 1.41-.59l7.78-7.78 2.81-2.81c.8-.78.8-2.07 0-2.86zM5.41 20L4 18.59l7.72-7.72 1.47 1.35L5.41 20z\"/>\n",
              "  </svg>\n",
              "      </button>\n",
              "      \n",
              "  <style>\n",
              "    .colab-df-container {\n",
              "      display:flex;\n",
              "      flex-wrap:wrap;\n",
              "      gap: 12px;\n",
              "    }\n",
              "\n",
              "    .colab-df-convert {\n",
              "      background-color: #E8F0FE;\n",
              "      border: none;\n",
              "      border-radius: 50%;\n",
              "      cursor: pointer;\n",
              "      display: none;\n",
              "      fill: #1967D2;\n",
              "      height: 32px;\n",
              "      padding: 0 0 0 0;\n",
              "      width: 32px;\n",
              "    }\n",
              "\n",
              "    .colab-df-convert:hover {\n",
              "      background-color: #E2EBFA;\n",
              "      box-shadow: 0px 1px 2px rgba(60, 64, 67, 0.3), 0px 1px 3px 1px rgba(60, 64, 67, 0.15);\n",
              "      fill: #174EA6;\n",
              "    }\n",
              "\n",
              "    [theme=dark] .colab-df-convert {\n",
              "      background-color: #3B4455;\n",
              "      fill: #D2E3FC;\n",
              "    }\n",
              "\n",
              "    [theme=dark] .colab-df-convert:hover {\n",
              "      background-color: #434B5C;\n",
              "      box-shadow: 0px 1px 3px 1px rgba(0, 0, 0, 0.15);\n",
              "      filter: drop-shadow(0px 1px 2px rgba(0, 0, 0, 0.3));\n",
              "      fill: #FFFFFF;\n",
              "    }\n",
              "  </style>\n",
              "\n",
              "      <script>\n",
              "        const buttonEl =\n",
              "          document.querySelector('#df-9cabb2aa-0c72-43cc-915b-385f94b4915c button.colab-df-convert');\n",
              "        buttonEl.style.display =\n",
              "          google.colab.kernel.accessAllowed ? 'block' : 'none';\n",
              "\n",
              "        async function convertToInteractive(key) {\n",
              "          const element = document.querySelector('#df-9cabb2aa-0c72-43cc-915b-385f94b4915c');\n",
              "          const dataTable =\n",
              "            await google.colab.kernel.invokeFunction('convertToInteractive',\n",
              "                                                     [key], {});\n",
              "          if (!dataTable) return;\n",
              "\n",
              "          const docLinkHtml = 'Like what you see? Visit the ' +\n",
              "            '<a target=\"_blank\" href=https://colab.research.google.com/notebooks/data_table.ipynb>data table notebook</a>'\n",
              "            + ' to learn more about interactive tables.';\n",
              "          element.innerHTML = '';\n",
              "          dataTable['output_type'] = 'display_data';\n",
              "          await google.colab.output.renderOutput(dataTable, element);\n",
              "          const docLink = document.createElement('div');\n",
              "          docLink.innerHTML = docLinkHtml;\n",
              "          element.appendChild(docLink);\n",
              "        }\n",
              "      </script>\n",
              "    </div>\n",
              "  </div>\n",
              "  "
            ],
            "text/plain": [
              "              Age   Education       Usage     Fitness        Income       Miles\n",
              "count  146.000000  146.000000  146.000000  146.000000    146.000000  146.000000\n",
              "mean    28.006849   15.150685    3.164384    3.075342  48053.650685   88.034247\n",
              "std      6.259334    1.266777    0.813908    0.743576   8852.564836   30.364093\n",
              "min     18.000000   12.000000    2.000000    2.000000  29562.000000   38.000000\n",
              "25%     23.000000   14.000000    3.000000    3.000000  42069.000000   66.000000\n",
              "50%     26.000000   16.000000    3.000000    3.000000  48891.000000   85.000000\n",
              "75%     33.000000   16.000000    4.000000    3.000000  53439.000000  105.250000\n",
              "max     46.000000   18.000000    5.000000    5.000000  68220.000000  180.000000"
            ]
          },
          "metadata": {},
          "execution_count": 4
        }
      ]
    },
    {
      "cell_type": "markdown",
      "metadata": {
        "id": "kuvgxVTMhJ9S"
      },
      "source": [
        "#**Hypothesis testing**"
      ]
    },
    {
      "cell_type": "code",
      "metadata": {
        "id": "QSFmFMmQhB2y"
      },
      "source": [
        "import scipy.stats as st"
      ],
      "execution_count": 5,
      "outputs": []
    },
    {
      "cell_type": "markdown",
      "metadata": {
        "id": "wTUUv2ErmiX2"
      },
      "source": [
        "### **Hypothesis 1:**\n"
      ]
    },
    {
      "cell_type": "markdown",
      "metadata": {
        "id": "MeEPsVsFmqMH"
      },
      "source": [
        "Average income of customer who bought TM195 model is less than average income of all the customer.\n",
        "\n",
        "**Z Test, Left Tailed**\n"
      ]
    },
    {
      "cell_type": "markdown",
      "metadata": {
        "id": "mC86mO-Ypzn7"
      },
      "source": [
        "**H0** : μ = average income of all the customer      \n",
        "   **Ha** : μ < average income of all the customer"
      ]
    },
    {
      "cell_type": "code",
      "metadata": {
        "id": "PAtB4Phtzl_h"
      },
      "source": [
        "sample = df[df['Product'] == 'TM195'].sample(35,random_state=2)"
      ],
      "execution_count": 6,
      "outputs": []
    },
    {
      "cell_type": "code",
      "metadata": {
        "colab": {
          "base_uri": "https://localhost:8080/"
        },
        "id": "xbtSLedvmoyg",
        "outputId": "5556742f-0677-4eb4-9a40-fd16540a47ba"
      },
      "source": [
        "#H0 : μ = 48053.65 and Ha : μ < 48053.65\n",
        "\n",
        "n = 35\n",
        "xbar = sample.Income.mean()\n",
        "mu = df['Income'].mean()\n",
        "sigma = df['Income'].std()  #standard deviation of population\n",
        "alpha = 0.1\n",
        "print(xbar, mu, sigma)"
      ],
      "execution_count": 7,
      "outputs": [
        {
          "output_type": "stream",
          "name": "stdout",
          "text": [
            "46129.71428571428 48053.650684931505 8852.564835892992\n"
          ]
        }
      ]
    },
    {
      "cell_type": "code",
      "metadata": {
        "colab": {
          "base_uri": "https://localhost:8080/"
        },
        "id": "eQDUbbLEtOwm",
        "outputId": "234321d6-c6a4-421e-98b4-43b75c0f72ae"
      },
      "source": [
        "z_critical = st.norm.ppf(alpha) \n",
        "z_critical   #z value corresponding to left side area(0.1)"
      ],
      "execution_count": 8,
      "outputs": [
        {
          "output_type": "execute_result",
          "data": {
            "text/plain": [
              "-1.2815515655446004"
            ]
          },
          "metadata": {},
          "execution_count": 8
        }
      ]
    },
    {
      "cell_type": "code",
      "metadata": {
        "colab": {
          "base_uri": "https://localhost:8080/"
        },
        "id": "ulSG_DGrwN5k",
        "outputId": "18b5d140-2371-4f59-e979-adc9ec7845b1"
      },
      "source": [
        "z = (xbar-mu)/(sigma/np.sqrt(n))\n",
        "z"
      ],
      "execution_count": 9,
      "outputs": [
        {
          "output_type": "execute_result",
          "data": {
            "text/plain": [
              "-1.2857472886534715"
            ]
          },
          "metadata": {},
          "execution_count": 9
        }
      ]
    },
    {
      "cell_type": "code",
      "metadata": {
        "colab": {
          "base_uri": "https://localhost:8080/"
        },
        "id": "1Dy9wVNmwjwn",
        "outputId": "f0e3a59b-539c-4500-b707-37f14a67c4f1"
      },
      "source": [
        "if (z > z_critical):   #left tail\n",
        "    print(\"Null hypothesis cannot be rejected\")\n",
        "else:\n",
        "    print(\"Reject null hypothesis\")"
      ],
      "execution_count": 10,
      "outputs": [
        {
          "output_type": "stream",
          "name": "stdout",
          "text": [
            "Reject null hypothesis\n"
          ]
        }
      ]
    },
    {
      "cell_type": "markdown",
      "source": [
        "*   There is enough evidence to conclude that average income of customer who bought TM195 model is less than average income of all the customer.\n",
        "*   From this we can infer that model TM195 is less cost and customer with low income purchse this model(TM195)\n",
        "\n",
        "\n",
        "\n",
        "\n",
        "\n"
      ],
      "metadata": {
        "id": "RA3CsvApnuMk"
      }
    },
    {
      "cell_type": "markdown",
      "metadata": {
        "id": "C3uvmDk7jNF2"
      },
      "source": [
        "### **Hypothesis 2:**\n"
      ]
    },
    {
      "cell_type": "markdown",
      "metadata": {
        "id": "inOGuaHRjNF4"
      },
      "source": [
        "Married customers are buying treadmill more than single customers\n",
        "\n",
        "**Z Test, Right Tailed, Using P-value**"
      ]
    },
    {
      "cell_type": "markdown",
      "metadata": {
        "id": "lidmCI91jNF5"
      },
      "source": [
        "**H0** : μ = 0.5     \n",
        "   **Ha** : μ > 0.5"
      ]
    },
    {
      "cell_type": "code",
      "metadata": {
        "id": "cYqjfnSijNF6"
      },
      "source": [
        "sample = df.sample(32,random_state=2)"
      ],
      "execution_count": 11,
      "outputs": []
    },
    {
      "cell_type": "code",
      "metadata": {
        "colab": {
          "base_uri": "https://localhost:8080/"
        },
        "outputId": "ead9d0e4-9a31-429a-fad7-a1491dc47193",
        "id": "PtSjU08EjNF7"
      },
      "source": [
        "samplePerOfMarried = (sample[sample['MaritalStatus'] == 'Partnered'].MaritalStatus.count()/32)\n",
        "sample[sample['MaritalStatus'] == 'Partnered'].MaritalStatus.count()"
      ],
      "execution_count": 12,
      "outputs": [
        {
          "output_type": "execute_result",
          "data": {
            "text/plain": [
              "21"
            ]
          },
          "metadata": {},
          "execution_count": 12
        }
      ]
    },
    {
      "cell_type": "code",
      "metadata": {
        "colab": {
          "base_uri": "https://localhost:8080/"
        },
        "outputId": "27c7476b-1b1f-4a0d-ea3f-8c275f6bb39c",
        "id": "UHA9HWuejNF8"
      },
      "source": [
        "#H0 : μ = 0.5, Ha : μ > 0.5\n",
        "\n",
        "n = 32\n",
        "xbar = samplePerOfMarried\n",
        "mu = 0.5\n",
        "alpha = 0.05\n",
        "print(xbar)"
      ],
      "execution_count": 13,
      "outputs": [
        {
          "output_type": "stream",
          "name": "stdout",
          "text": [
            "0.65625\n"
          ]
        }
      ]
    },
    {
      "cell_type": "code",
      "metadata": {
        "colab": {
          "base_uri": "https://localhost:8080/"
        },
        "outputId": "7429613b-15d0-4e5d-d97c-e5e882146dee",
        "id": "uyTYe6DvjNF9"
      },
      "source": [
        "z = (xbar - mu)/np.sqrt(((mu)*(1-mu))/n)\n",
        "z"
      ],
      "execution_count": 14,
      "outputs": [
        {
          "output_type": "execute_result",
          "data": {
            "text/plain": [
              "1.7677669529663687"
            ]
          },
          "metadata": {},
          "execution_count": 14
        }
      ]
    },
    {
      "cell_type": "code",
      "metadata": {
        "colab": {
          "base_uri": "https://localhost:8080/"
        },
        "outputId": "d8480653-8514-4956-afae-7e50057a1d20",
        "id": "VLufkAu4jNF-"
      },
      "source": [
        "p= (1 - st.norm.cdf(abs(z))) # (1 - 0.9608)\n",
        "p"
      ],
      "execution_count": 15,
      "outputs": [
        {
          "output_type": "execute_result",
          "data": {
            "text/plain": [
              "0.03854993587177091"
            ]
          },
          "metadata": {},
          "execution_count": 15
        }
      ]
    },
    {
      "cell_type": "code",
      "metadata": {
        "colab": {
          "base_uri": "https://localhost:8080/"
        },
        "outputId": "665e479a-ba2d-48f9-c4b9-29ec66dc29f5",
        "id": "nN4bBZywjNF-"
      },
      "source": [
        "if (p > alpha):\n",
        "    print(\"Null hypothesis cannot be rejected\")\n",
        "else:\n",
        "    print(\"Reject null hypothesis\")"
      ],
      "execution_count": 16,
      "outputs": [
        {
          "output_type": "stream",
          "name": "stdout",
          "text": [
            "Reject null hypothesis\n"
          ]
        }
      ]
    },
    {
      "cell_type": "markdown",
      "source": [
        "*   There is enough evidence that Married customers are buying treadmill more than single customers.\n",
        "*   So the company has to create awareness among people btw age 18-25 to expand their sale(single).\n",
        "\n"
      ],
      "metadata": {
        "id": "jHHleJufCxep"
      }
    },
    {
      "cell_type": "markdown",
      "metadata": {
        "id": "Udt2YWI6FEiu"
      },
      "source": [
        "### **Hypothesis 3:**\n"
      ]
    },
    {
      "cell_type": "markdown",
      "metadata": {
        "id": "PxOey5wLFEiv"
      },
      "source": [
        "Female customers fitness avg is less than the mean fitness of all the customers\n",
        "\n",
        "**t Test, Left Tailed**"
      ]
    },
    {
      "cell_type": "markdown",
      "metadata": {
        "id": "t5-bC2d_FEix"
      },
      "source": [
        "**H0** : μ = avg fitness of all customers \n",
        "   **Ha** : μ < avg fitness of all customers"
      ]
    },
    {
      "cell_type": "code",
      "metadata": {
        "id": "T8G0FU2FFEiy"
      },
      "source": [
        "sample = df[df['Gender'] == 'Female'].sample(32,random_state=2)"
      ],
      "execution_count": 17,
      "outputs": []
    },
    {
      "cell_type": "code",
      "metadata": {
        "colab": {
          "base_uri": "https://localhost:8080/"
        },
        "id": "sGXcjLDSFEiz",
        "outputId": "a9b6bdf5-43e0-479a-b857-406b07bd18db"
      },
      "source": [
        "#H0 : μ = 3.075 and Ha : μ < 3.075\n",
        "\n",
        "n = 32\n",
        "degrees_of_freedom = n-1\n",
        "xbar = sample.Fitness.mean()\n",
        "mu = df['Fitness'].mean()\n",
        "s = sample['Fitness'].std()\n",
        "alpha = 0.1\n",
        "print(xbar, mu, s)"
      ],
      "execution_count": 18,
      "outputs": [
        {
          "output_type": "stream",
          "name": "stdout",
          "text": [
            "2.90625 3.0753424657534247 0.640532792341279\n"
          ]
        }
      ]
    },
    {
      "cell_type": "code",
      "metadata": {
        "colab": {
          "base_uri": "https://localhost:8080/"
        },
        "id": "xUy08sVkFEi0",
        "outputId": "79dafda2-c3c5-4880-bf27-aeb2493a90c6"
      },
      "source": [
        "t = (xbar - mu)/(s / np.sqrt(n))\n",
        "t"
      ],
      "execution_count": 19,
      "outputs": [
        {
          "output_type": "execute_result",
          "data": {
            "text/plain": [
              "-1.493337179441019"
            ]
          },
          "metadata": {},
          "execution_count": 19
        }
      ]
    },
    {
      "cell_type": "code",
      "metadata": {
        "colab": {
          "base_uri": "https://localhost:8080/"
        },
        "id": "Vvt6N4iHFEi1",
        "outputId": "b6273c18-055e-43cd-dc24-5d8bceb55114"
      },
      "source": [
        "t_critical = (st.t.ppf(alpha, degrees_of_freedom))\n",
        "t_critical"
      ],
      "execution_count": 20,
      "outputs": [
        {
          "output_type": "execute_result",
          "data": {
            "text/plain": [
              "-1.3094635471008582"
            ]
          },
          "metadata": {},
          "execution_count": 20
        }
      ]
    },
    {
      "cell_type": "code",
      "metadata": {
        "colab": {
          "base_uri": "https://localhost:8080/"
        },
        "id": "KZmMfp9sFEi2",
        "outputId": "c6e36086-4bc8-408e-bc1c-2ebed35fb472"
      },
      "source": [
        "if (t > t_critical): #left tail\n",
        "    print(\"Null hypothesis cannot be rejected\")\n",
        "else:\n",
        "    print(\"Reject null hypothesis\")"
      ],
      "execution_count": 21,
      "outputs": [
        {
          "output_type": "stream",
          "name": "stdout",
          "text": [
            "Reject null hypothesis\n"
          ]
        }
      ]
    },
    {
      "cell_type": "markdown",
      "source": [
        "*   There is enough evidence to conclude that female customers fitness avg is less than the mean fitness of all the customers.\n",
        "*   So company can try to create awareness among female to expand sales with female customers\n",
        "\n"
      ],
      "metadata": {
        "id": "25ob9dTszqEH"
      }
    },
    {
      "cell_type": "markdown",
      "metadata": {
        "id": "a9Ezb3RLovJ7"
      },
      "source": [
        "### **Hypothesis 4:**\n"
      ]
    },
    {
      "cell_type": "markdown",
      "metadata": {
        "id": "w-77UtSyovJ9"
      },
      "source": [
        "The avg age of customer who bought model TM498 is not same as the avg age of all the customers.\n",
        "\n",
        "**t Test, two tailed test**\n"
      ]
    },
    {
      "cell_type": "markdown",
      "metadata": {
        "id": "yG-kHvpBovJ-"
      },
      "source": [
        "**H0** : μ = average age of all the customer\n",
        "   **Ha** : μ != average age of all the customer"
      ]
    },
    {
      "cell_type": "code",
      "metadata": {
        "id": "RDDIt0ABovJ_"
      },
      "source": [
        "sample = df[df['Product'] == 'TM498'].sample(32,random_state=2)"
      ],
      "execution_count": 22,
      "outputs": []
    },
    {
      "cell_type": "code",
      "metadata": {
        "colab": {
          "base_uri": "https://localhost:8080/"
        },
        "outputId": "9a0a671f-d3a6-40cb-b0e2-8f904519ce19",
        "id": "b3yhCihbovKA"
      },
      "source": [
        "#H0 : μ = 28.00684, Ha : μ != 28.00684\n",
        "\n",
        "n = 32\n",
        "degrees_of_freedom = n-1\n",
        "xbar = sample['Age'].mean()\n",
        "mu = df['Age'].mean()\n",
        "s = sample['Age'].std()\n",
        "alpha = 0.05\n",
        "print(xbar, mu, s)"
      ],
      "execution_count": 23,
      "outputs": [
        {
          "output_type": "stream",
          "name": "stdout",
          "text": [
            "28.75 28.006849315068493 6.252741334290775\n"
          ]
        }
      ]
    },
    {
      "cell_type": "code",
      "metadata": {
        "colab": {
          "base_uri": "https://localhost:8080/"
        },
        "outputId": "87bcd9f9-e257-4490-ee61-320aa4a779b2",
        "id": "YOYAFXPqovKC"
      },
      "source": [
        "t = (xbar - mu)/(s / np.sqrt(n))\n",
        "t"
      ],
      "execution_count": 24,
      "outputs": [
        {
          "output_type": "execute_result",
          "data": {
            "text/plain": [
              "0.6723283253400089"
            ]
          },
          "metadata": {},
          "execution_count": 24
        }
      ]
    },
    {
      "cell_type": "code",
      "metadata": {
        "colab": {
          "base_uri": "https://localhost:8080/"
        },
        "outputId": "e90b0526-5cbd-48ac-d9f5-f08517650003",
        "id": "SRfMZU_uovKD"
      },
      "source": [
        "t_critical = st.t.ppf(alpha/2, degrees_of_freedom)\n",
        "t_critical"
      ],
      "execution_count": 25,
      "outputs": [
        {
          "output_type": "execute_result",
          "data": {
            "text/plain": [
              "-2.039513446396408"
            ]
          },
          "metadata": {},
          "execution_count": 25
        }
      ]
    },
    {
      "cell_type": "code",
      "metadata": {
        "colab": {
          "base_uri": "https://localhost:8080/"
        },
        "outputId": "7415d492-89d8-4cbe-c329-b7a07e2611da",
        "id": "ggEzRYvfovKE"
      },
      "source": [
        "if (abs(t) < abs(t_critical)):\n",
        "    print(\"Null hypothesis cannot be rejected\")\n",
        "else:\n",
        "    print(\"Reject null hypothesis\")"
      ],
      "execution_count": 26,
      "outputs": [
        {
          "output_type": "stream",
          "name": "stdout",
          "text": [
            "Null hypothesis cannot be rejected\n"
          ]
        }
      ]
    },
    {
      "cell_type": "markdown",
      "source": [
        "*   There is no enough evidence that the avg age of customer who bought model TM498 is not same as the avg age of all the customers.\n",
        "*   From this we can infer that there is high chance that there doesn't exist any solid relatoinship between age and model, so different age groups doesn't go for different model.\n",
        "\n"
      ],
      "metadata": {
        "id": "vHTRywEatBpZ"
      }
    },
    {
      "cell_type": "markdown",
      "metadata": {
        "id": "elF5k89aLCoH"
      },
      "source": [
        "### **Hypothesis 5:**\n"
      ]
    },
    {
      "cell_type": "markdown",
      "metadata": {
        "id": "5Or7zBbpLCoJ"
      },
      "source": [
        "Variance of income of customers who bought TM195 model is less than the variance of income of all the customers\n",
        "\n",
        "**chi square Test, Left Tailed**"
      ]
    },
    {
      "cell_type": "markdown",
      "metadata": {
        "id": "j70hWXl9LCoK"
      },
      "source": [
        "**H0** : σ2 = variance(income) of all customers\n",
        "   **Ha** : σ2 < variance(income) of all customers"
      ]
    },
    {
      "cell_type": "code",
      "metadata": {
        "id": "Qgy2HaVHLCoL"
      },
      "source": [
        "sample = df[df['Product'] == 'TM195'].sample(32,random_state=2)"
      ],
      "execution_count": 27,
      "outputs": []
    },
    {
      "cell_type": "code",
      "metadata": {
        "colab": {
          "base_uri": "https://localhost:8080/"
        },
        "outputId": "db94a644-b88e-47ee-ade6-bd283863c65d",
        "id": "47cKv-c_LCoN"
      },
      "source": [
        "#H0 : σ2 = 78367904.17, Ha : σ2 < 78367904.17\n",
        "\n",
        "n = 32\n",
        "degrees_of_freedom = n-1\n",
        "s_square = (sample['Income'].std())**2\n",
        "sigma_square = (df['Income'].std())**2\n",
        "alpha = 0.05\n",
        "print(s_square, sigma_square)"
      ],
      "execution_count": 28,
      "outputs": [
        {
          "output_type": "stream",
          "name": "stdout",
          "text": [
            "88605501.08770163 78367904.17368911\n"
          ]
        }
      ]
    },
    {
      "cell_type": "code",
      "metadata": {
        "colab": {
          "base_uri": "https://localhost:8080/"
        },
        "outputId": "3ca3988a-ae68-4b5a-ad54-f383e32304ad",
        "id": "M_i3Ug-jLCoQ"
      },
      "source": [
        "chi_square = ((n-1)*s_square)/sigma_square\n",
        "chi_square"
      ],
      "execution_count": 29,
      "outputs": [
        {
          "output_type": "execute_result",
          "data": {
            "text/plain": [
              "35.04968727543104"
            ]
          },
          "metadata": {},
          "execution_count": 29
        }
      ]
    },
    {
      "cell_type": "code",
      "metadata": {
        "colab": {
          "base_uri": "https://localhost:8080/"
        },
        "outputId": "519d249d-3526-40e8-b2dd-5ec255c7d094",
        "id": "V2cbcPORLCoR"
      },
      "source": [
        "chi_square_critical =  st.chi2.ppf(alpha, degrees_of_freedom)\n",
        "chi_square_critical"
      ],
      "execution_count": 30,
      "outputs": [
        {
          "output_type": "execute_result",
          "data": {
            "text/plain": [
              "19.280568559129293"
            ]
          },
          "metadata": {},
          "execution_count": 30
        }
      ]
    },
    {
      "cell_type": "code",
      "metadata": {
        "colab": {
          "base_uri": "https://localhost:8080/"
        },
        "outputId": "fbeecb86-9d60-4935-d164-43943d826463",
        "id": "wCw736NsLCoS"
      },
      "source": [
        "if (chi_square > chi_square_critical):\n",
        "    print(\"Null hypothesis cannot be rejected\")\n",
        "else:\n",
        "    print(\"Reject null hypothesis\")"
      ],
      "execution_count": 31,
      "outputs": [
        {
          "output_type": "stream",
          "name": "stdout",
          "text": [
            "Null hypothesis cannot be rejected\n"
          ]
        }
      ]
    },
    {
      "cell_type": "markdown",
      "source": [
        "*   There is no enough evidence to conclude that variance of income of customers who bought TM195 model is less than the variance of income of all the customers\n",
        "*   From this we get to know that few customers with high income also purchase TM195 which results in high varince than population\n",
        "\n"
      ],
      "metadata": {
        "id": "Kyg5nNsZxz6p"
      }
    },
    {
      "cell_type": "markdown",
      "metadata": {
        "id": "XWZF6U0Ow_4d"
      },
      "source": [
        "### **Hypothesis 6:**\n"
      ]
    },
    {
      "cell_type": "markdown",
      "metadata": {
        "id": "M2KWTeJUw_4f"
      },
      "source": [
        "Average income of customer who bought TM798 model is greater than average income of all the customer.\n",
        "\n",
        "**Z Test, Right Tailed**\n"
      ]
    },
    {
      "cell_type": "markdown",
      "metadata": {
        "id": "or1Z8uc7w_4f"
      },
      "source": [
        "**H0** : μ = average income of all the customer      \n",
        "   **Ha** : μ > average income of all the customer"
      ]
    },
    {
      "cell_type": "code",
      "metadata": {
        "id": "gGhgJdtK2EGz"
      },
      "source": [
        "sample = df[df['Product'] == 'TM798'].sample(13,random_state=2)"
      ],
      "execution_count": 32,
      "outputs": []
    },
    {
      "cell_type": "code",
      "metadata": {
        "colab": {
          "base_uri": "https://localhost:8080/"
        },
        "id": "bZ9PIzY4w_4g",
        "outputId": "0eac5a2e-8c0b-4954-e229-07844291e930"
      },
      "source": [
        "n = 13\n",
        "xbar = sample[sample['Product'] == 'TM798'].Income.mean()\n",
        "mu = df['Income'].mean()\n",
        "sigma = df['Income'].std()\n",
        "alpha = 0.05\n",
        "print(xbar, mu, sigma)"
      ],
      "execution_count": 33,
      "outputs": [
        {
          "output_type": "stream",
          "name": "stdout",
          "text": [
            "55842.230769230766 48053.650684931505 8852.564835892992\n"
          ]
        }
      ]
    },
    {
      "cell_type": "code",
      "metadata": {
        "colab": {
          "base_uri": "https://localhost:8080/"
        },
        "id": "9QJjWv75w_4h",
        "outputId": "dfb8e606-5fd8-494c-97e0-1ac492afd83a"
      },
      "source": [
        "z_critical = abs(st.norm.ppf(alpha)) \n",
        "z_critical"
      ],
      "execution_count": 34,
      "outputs": [
        {
          "output_type": "execute_result",
          "data": {
            "text/plain": [
              "1.6448536269514729"
            ]
          },
          "metadata": {},
          "execution_count": 34
        }
      ]
    },
    {
      "cell_type": "code",
      "metadata": {
        "colab": {
          "base_uri": "https://localhost:8080/"
        },
        "id": "tgnaU0pvw_4i",
        "outputId": "96525d77-0671-40dc-dee8-fdd358f0dfb2"
      },
      "source": [
        "z = (xbar-mu)/(sigma/np.sqrt(n))\n",
        "z"
      ],
      "execution_count": 35,
      "outputs": [
        {
          "output_type": "execute_result",
          "data": {
            "text/plain": [
              "3.1722021106401614"
            ]
          },
          "metadata": {},
          "execution_count": 35
        }
      ]
    },
    {
      "cell_type": "code",
      "metadata": {
        "colab": {
          "base_uri": "https://localhost:8080/"
        },
        "id": "6jnDYX_Hw_4i",
        "outputId": "3659ca49-ca04-40f3-e838-25cb47e100c4"
      },
      "source": [
        "if (z < z_critical):\n",
        "    print(\"Null hypothesis cannot be rejected\")\n",
        "else:\n",
        "    print(\"Reject null hypothesis\")"
      ],
      "execution_count": 36,
      "outputs": [
        {
          "output_type": "stream",
          "name": "stdout",
          "text": [
            "Reject null hypothesis\n"
          ]
        }
      ]
    },
    {
      "cell_type": "markdown",
      "source": [
        "We don't have enough evidence to conclude that average income of customer who bought TM798 model is greater than average income of all the customer."
      ],
      "metadata": {
        "id": "esmQF-Ynjjzi"
      }
    },
    {
      "cell_type": "markdown",
      "metadata": {
        "id": "u99R2vGVsAY4"
      },
      "source": [
        "### **Hypothesis 7:**\n"
      ]
    },
    {
      "cell_type": "markdown",
      "metadata": {
        "id": "gTcCO436sAY5"
      },
      "source": [
        "The avg miles run by male customer is greater than population average\n",
        "\n",
        "**t Test, Right Tailed**"
      ]
    },
    {
      "cell_type": "markdown",
      "metadata": {
        "id": "z6CCz_V8sAY6"
      },
      "source": [
        "**H0** : μ = population avg of miles    \n",
        "   **Ha** : μ > population avg of miles"
      ]
    },
    {
      "cell_type": "code",
      "metadata": {
        "id": "5C5SPOD73Mul"
      },
      "source": [
        "sample = df[df['Gender'] == 'Male'].sample(32,random_state=2)"
      ],
      "execution_count": 37,
      "outputs": []
    },
    {
      "cell_type": "code",
      "metadata": {
        "colab": {
          "base_uri": "https://localhost:8080/"
        },
        "id": "6JVwQkibsAY8",
        "outputId": "ced94bb6-918c-4247-f243-69ff37192fae"
      },
      "source": [
        "n = 32\n",
        "degrees_of_freedom = n-1\n",
        "xbar = sample.Miles.mean()\n",
        "mu = df['Miles'].mean()\n",
        "s = sample['Miles'].std() \n",
        "alpha = 0.05\n",
        "print(xbar, mu, s)"
      ],
      "execution_count": 38,
      "outputs": [
        {
          "output_type": "stream",
          "name": "stdout",
          "text": [
            "92.875 88.03424657534246 30.928377198440792\n"
          ]
        }
      ]
    },
    {
      "cell_type": "code",
      "metadata": {
        "colab": {
          "base_uri": "https://localhost:8080/"
        },
        "id": "3UGmT93DsAY-",
        "outputId": "083a246f-28c4-4f68-cc38-887ac82a9467"
      },
      "source": [
        "t = (xbar - mu)/(s / np.sqrt(n))\n",
        "t"
      ],
      "execution_count": 39,
      "outputs": [
        {
          "output_type": "execute_result",
          "data": {
            "text/plain": [
              "0.885382262552051"
            ]
          },
          "metadata": {},
          "execution_count": 39
        }
      ]
    },
    {
      "cell_type": "code",
      "metadata": {
        "colab": {
          "base_uri": "https://localhost:8080/"
        },
        "id": "CTwMqADisAY_",
        "outputId": "f655f480-3ea5-4689-89b2-06328e8dab56"
      },
      "source": [
        "t_critical = abs(st.t.ppf(alpha, degrees_of_freedom))\n",
        "t_critical"
      ],
      "execution_count": 40,
      "outputs": [
        {
          "output_type": "execute_result",
          "data": {
            "text/plain": [
              "1.6955187891366654"
            ]
          },
          "metadata": {},
          "execution_count": 40
        }
      ]
    },
    {
      "cell_type": "code",
      "metadata": {
        "colab": {
          "base_uri": "https://localhost:8080/"
        },
        "id": "HVYn4aBmsAZA",
        "outputId": "fd6f4146-95ab-4869-d070-1b85feb95702"
      },
      "source": [
        "if (t < t_critical):\n",
        "    print(\"Null hypothesis cannot be rejected\")\n",
        "else:\n",
        "    print(\"Reject null hypothesis\")"
      ],
      "execution_count": 41,
      "outputs": [
        {
          "output_type": "stream",
          "name": "stdout",
          "text": [
            "Null hypothesis cannot be rejected\n"
          ]
        }
      ]
    },
    {
      "cell_type": "markdown",
      "source": [
        "We don't have enough evidence to conclude that the avg miles run by male customer is greater than population average"
      ],
      "metadata": {
        "id": "o6aRUnNqjzVu"
      }
    },
    {
      "cell_type": "markdown",
      "metadata": {
        "id": "1kummHb-P3jK"
      },
      "source": [
        "### **Hypothesis 8:**\n"
      ]
    },
    {
      "cell_type": "markdown",
      "metadata": {
        "id": "SlkGa-QBP3jM"
      },
      "source": [
        "Avg usage of female customers is less than the avg usage of all the customers\n",
        "\n",
        "**T Test, Left Tailed using P-value**"
      ]
    },
    {
      "cell_type": "markdown",
      "metadata": {
        "id": "WKDLnxMLP3jO"
      },
      "source": [
        "**H0** : μ = usage avg of all customers\n",
        "   **Ha** : μ < usage avg of all customers"
      ]
    },
    {
      "cell_type": "code",
      "metadata": {
        "id": "H6wxUlTKP3jP"
      },
      "source": [
        "sample = df[df['Gender'] == 'Female'].sample(32,random_state=2)"
      ],
      "execution_count": 42,
      "outputs": []
    },
    {
      "cell_type": "code",
      "metadata": {
        "colab": {
          "base_uri": "https://localhost:8080/"
        },
        "outputId": "1e9fa39d-add0-416e-a01b-641e6ef90cb1",
        "id": "0Aqn-NnOP3jQ"
      },
      "source": [
        "n = 32\n",
        "degrees_of_freedom = n-1\n",
        "xbar = sample['Usage'].mean()\n",
        "mu = df['Usage'].mean()\n",
        "s = sample['Usage'].std()\n",
        "alpha = 0.05\n",
        "print(xbar, mu)"
      ],
      "execution_count": 43,
      "outputs": [
        {
          "output_type": "stream",
          "name": "stdout",
          "text": [
            "3.0 3.164383561643836\n"
          ]
        }
      ]
    },
    {
      "cell_type": "code",
      "metadata": {
        "colab": {
          "base_uri": "https://localhost:8080/"
        },
        "outputId": "a0c72a88-db60-4b59-908d-d4ce650469eb",
        "id": "q1eVkNRAP3jS"
      },
      "source": [
        "t = (xbar - mu)/(s / np.sqrt(n))\n",
        "t"
      ],
      "execution_count": 44,
      "outputs": [
        {
          "output_type": "execute_result",
          "data": {
            "text/plain": [
              "-1.1038317496958057"
            ]
          },
          "metadata": {},
          "execution_count": 44
        }
      ]
    },
    {
      "cell_type": "code",
      "metadata": {
        "colab": {
          "base_uri": "https://localhost:8080/"
        },
        "outputId": "a5973d92-8c69-405a-c78b-b0e68c41b26f",
        "id": "hPlDqRFCP3jT"
      },
      "source": [
        "p_val = (st.t.cdf(abs(t), degrees_of_freedom))\n",
        "p_val"
      ],
      "execution_count": 45,
      "outputs": [
        {
          "output_type": "execute_result",
          "data": {
            "text/plain": [
              "0.8609194636970525"
            ]
          },
          "metadata": {},
          "execution_count": 45
        }
      ]
    },
    {
      "cell_type": "code",
      "metadata": {
        "colab": {
          "base_uri": "https://localhost:8080/"
        },
        "outputId": "a088024b-f9a8-4672-9d42-08e29c7a5326",
        "id": "JfhWMp6QP3jU"
      },
      "source": [
        "if (p_val > alpha):\n",
        "    print(\"Null hypothesis cannot be rejected\")\n",
        "else:\n",
        "    print(\"Reject null hypothesis\")"
      ],
      "execution_count": 46,
      "outputs": [
        {
          "output_type": "stream",
          "name": "stdout",
          "text": [
            "Null hypothesis cannot be rejected\n"
          ]
        }
      ]
    },
    {
      "cell_type": "markdown",
      "source": [
        "We don't have enough evidence to conclude that avg usage of female customers is less than the avg usage of all the customers."
      ],
      "metadata": {
        "id": "ZT00SMM4i9im"
      }
    },
    {
      "cell_type": "markdown",
      "metadata": {
        "id": "s7c86qFzyeu_"
      },
      "source": [
        "### **Hypothesis 9:**\n"
      ]
    },
    {
      "cell_type": "markdown",
      "metadata": {
        "id": "w8Fpmxp-yevA"
      },
      "source": [
        "Male customers buying treadmill more than female customers\n",
        "\n",
        "**Z Test, Right Tailed, Using P-value**"
      ]
    },
    {
      "cell_type": "markdown",
      "metadata": {
        "id": "Z0JOp8SdyevA"
      },
      "source": [
        "**H0** : μ = 0.5     \n",
        "   **Ha** : μ > 0.5"
      ]
    },
    {
      "cell_type": "code",
      "metadata": {
        "id": "wDSt3SYABiZg"
      },
      "source": [
        "sample = df.sample(32,random_state=2)"
      ],
      "execution_count": 47,
      "outputs": []
    },
    {
      "cell_type": "code",
      "metadata": {
        "id": "gU7AObJl14wu",
        "colab": {
          "base_uri": "https://localhost:8080/"
        },
        "outputId": "0010ecb9-1ca5-4f30-b772-87c641d4bee5"
      },
      "source": [
        "samplePerOfMale = (sample[sample['Gender'] == 'Male'].Gender.count()/32)\n",
        "sample[sample['Gender'] == 'Male'].Gender.count()"
      ],
      "execution_count": 48,
      "outputs": [
        {
          "output_type": "execute_result",
          "data": {
            "text/plain": [
              "19"
            ]
          },
          "metadata": {},
          "execution_count": 48
        }
      ]
    },
    {
      "cell_type": "code",
      "metadata": {
        "colab": {
          "base_uri": "https://localhost:8080/"
        },
        "id": "yWh1eVFzyevB",
        "outputId": "25cdb90d-112d-40d4-bda1-10c566c75c70"
      },
      "source": [
        "n = 32\n",
        "xbar = samplePerOfMale\n",
        "mu = 0.5\n",
        "alpha = 0.05\n",
        "print(xbar)"
      ],
      "execution_count": 49,
      "outputs": [
        {
          "output_type": "stream",
          "name": "stdout",
          "text": [
            "0.59375\n"
          ]
        }
      ]
    },
    {
      "cell_type": "code",
      "metadata": {
        "colab": {
          "base_uri": "https://localhost:8080/"
        },
        "id": "IInSZFgKyevC",
        "outputId": "d616a285-551e-445f-86b6-0140a4228cd8"
      },
      "source": [
        "z = (xbar - mu)/np.sqrt(((mu)*(1-mu))/n)\n",
        "z"
      ],
      "execution_count": 50,
      "outputs": [
        {
          "output_type": "execute_result",
          "data": {
            "text/plain": [
              "1.0606601717798212"
            ]
          },
          "metadata": {},
          "execution_count": 50
        }
      ]
    },
    {
      "cell_type": "code",
      "metadata": {
        "colab": {
          "base_uri": "https://localhost:8080/"
        },
        "id": "S8fc6hKZmvIf",
        "outputId": "d856c8f2-e43a-4ca8-b721-aa8c9d13a77f"
      },
      "source": [
        "p= (1 - st.norm.cdf(z))\n",
        "print(\"p :\",p)"
      ],
      "execution_count": 51,
      "outputs": [
        {
          "output_type": "stream",
          "name": "stdout",
          "text": [
            "p : 0.1444221831732424\n"
          ]
        }
      ]
    },
    {
      "cell_type": "code",
      "metadata": {
        "colab": {
          "base_uri": "https://localhost:8080/"
        },
        "id": "QFyiFMNcyevD",
        "outputId": "41f65d63-7dbd-4d52-826c-a2f7f3ac788a"
      },
      "source": [
        "if (p > alpha):\n",
        "    print(\"Null hypothesis cannot be rejected\")\n",
        "else:\n",
        "    print(\"Reject null hypothesis\")"
      ],
      "execution_count": 52,
      "outputs": [
        {
          "output_type": "stream",
          "name": "stdout",
          "text": [
            "Null hypothesis cannot be rejected\n"
          ]
        }
      ]
    },
    {
      "cell_type": "markdown",
      "source": [
        "We don't have enough evidence to conclude that male customers are buying treadmill more than female customers.\n",
        "\n"
      ],
      "metadata": {
        "id": "O7Zx8NhjrgNl"
      }
    },
    {
      "cell_type": "markdown",
      "metadata": {
        "id": "mUGvat30rWXY"
      },
      "source": [
        "### **Hypothesis 9:**\n"
      ]
    },
    {
      "cell_type": "markdown",
      "metadata": {
        "id": "B5dmNF-NrWXZ"
      },
      "source": [
        "Percentage of Male customers buying the treadmill is not same as percentage of female customers\n",
        "\n",
        "**Z Test, two Tailed, Using P-value**"
      ]
    },
    {
      "cell_type": "markdown",
      "metadata": {
        "id": "ZMv4oETIrWXZ"
      },
      "source": [
        "**H0** : μ = 0.5     \n",
        "   **Ha** : μ != 0.5"
      ]
    },
    {
      "cell_type": "code",
      "metadata": {
        "id": "5KX_T4zUrWXZ"
      },
      "source": [
        "sample = df.sample(32,random_state=2)"
      ],
      "execution_count": 53,
      "outputs": []
    },
    {
      "cell_type": "code",
      "metadata": {
        "colab": {
          "base_uri": "https://localhost:8080/"
        },
        "outputId": "ebbaf6cf-5352-424a-cd34-bfcd094a0ba7",
        "id": "H9FMkWRMrWXa"
      },
      "source": [
        "samplePerOfMale = (sample[sample['Gender'] == 'Male'].Gender.count()/32)\n",
        "sample[sample['Gender'] == 'Male'].Gender.count()"
      ],
      "execution_count": 54,
      "outputs": [
        {
          "output_type": "execute_result",
          "data": {
            "text/plain": [
              "19"
            ]
          },
          "metadata": {},
          "execution_count": 54
        }
      ]
    },
    {
      "cell_type": "code",
      "metadata": {
        "colab": {
          "base_uri": "https://localhost:8080/"
        },
        "outputId": "f05aee7f-399d-4100-cd91-a553a8d13ab4",
        "id": "ZkdrdglRrWXb"
      },
      "source": [
        "n = 32\n",
        "xbar = samplePerOfMale\n",
        "mu = 0.5\n",
        "alpha = 0.05\n",
        "print(xbar)"
      ],
      "execution_count": 55,
      "outputs": [
        {
          "output_type": "stream",
          "name": "stdout",
          "text": [
            "0.59375\n"
          ]
        }
      ]
    },
    {
      "cell_type": "code",
      "metadata": {
        "colab": {
          "base_uri": "https://localhost:8080/"
        },
        "outputId": "45af68b5-bed7-47e4-87b1-bc1e6ce1da28",
        "id": "2KJwmlQorWXb"
      },
      "source": [
        "z = (xbar - mu)/np.sqrt(((mu)*(1-mu))/n)\n",
        "z"
      ],
      "execution_count": 56,
      "outputs": [
        {
          "output_type": "execute_result",
          "data": {
            "text/plain": [
              "1.0606601717798212"
            ]
          },
          "metadata": {},
          "execution_count": 56
        }
      ]
    },
    {
      "cell_type": "code",
      "metadata": {
        "colab": {
          "base_uri": "https://localhost:8080/"
        },
        "outputId": "86105fb8-758a-46e9-eb72-a812ea95c69c",
        "id": "xGtx4KSlrWXc"
      },
      "source": [
        "p_val = (1 - st.norm.cdf(abs(z))) * 2\n",
        "p_val"
      ],
      "execution_count": 57,
      "outputs": [
        {
          "output_type": "execute_result",
          "data": {
            "text/plain": [
              "0.2888443663464848"
            ]
          },
          "metadata": {},
          "execution_count": 57
        }
      ]
    },
    {
      "cell_type": "code",
      "metadata": {
        "colab": {
          "base_uri": "https://localhost:8080/"
        },
        "outputId": "e684e38a-1792-4294-8b23-dfcb006d138a",
        "id": "ddJxDeGurWXc"
      },
      "source": [
        "if (p_val > alpha):\n",
        "    print(\"Null hypothesis cannot be rejected\")\n",
        "else:\n",
        "    print(\"Reject null hypothesis\")"
      ],
      "execution_count": 58,
      "outputs": [
        {
          "output_type": "stream",
          "name": "stdout",
          "text": [
            "Null hypothesis cannot be rejected\n"
          ]
        }
      ]
    },
    {
      "cell_type": "markdown",
      "source": [
        "We don't have  enough evidence to conclude that percentage of Male customers buying the treadmill is not same as percentage of female customers."
      ],
      "metadata": {
        "id": "ef99EJeItGEW"
      }
    },
    {
      "cell_type": "markdown",
      "metadata": {
        "id": "1r5NueiuIPnV"
      },
      "source": [
        "### **Hypothesis 10:**\n"
      ]
    },
    {
      "cell_type": "markdown",
      "metadata": {
        "id": "zCmo6ZckIPnY"
      },
      "source": [
        "Variance of miles run by customers who bought TM195 model is less than the variance of miles run by all the customers\n",
        "\n",
        "**chi square Test, Left Tailed**\n"
      ]
    },
    {
      "cell_type": "markdown",
      "metadata": {
        "id": "Zz1BX4GKS10D"
      },
      "source": [
        "**H0** : σ2 = variance(miles) of all customers\n",
        "   **Ha** : σ2 < variance(miles) of all customers"
      ]
    },
    {
      "cell_type": "code",
      "metadata": {
        "id": "7nzp2y-6S10D"
      },
      "source": [
        "sample = df[df['Product'] == 'TM195'].sample(32,random_state=2)"
      ],
      "execution_count": 59,
      "outputs": []
    },
    {
      "cell_type": "code",
      "metadata": {
        "colab": {
          "base_uri": "https://localhost:8080/"
        },
        "outputId": "575d017b-589f-44db-aa81-dd09a974a9c2",
        "id": "vVtnYhjmS10E"
      },
      "source": [
        "n = 32\n",
        "degrees_of_freedom = n-1\n",
        "s_square = (sample['Miles'].std())**2\n",
        "sigma_square = (df['Miles'].std())**2\n",
        "alpha = 0.01\n",
        "print(s_square, sigma_square)"
      ],
      "execution_count": 60,
      "outputs": [
        {
          "output_type": "stream",
          "name": "stdout",
          "text": [
            "593.7570564516129 921.9781294284363\n"
          ]
        }
      ]
    },
    {
      "cell_type": "code",
      "metadata": {
        "colab": {
          "base_uri": "https://localhost:8080/"
        },
        "outputId": "ae10b7f5-b36b-45c3-a359-93fc6fc2e97d",
        "id": "2iE2M8waS10F"
      },
      "source": [
        "chi_square = ((n-1)*s_square)/sigma_square\n",
        "chi_square"
      ],
      "execution_count": 61,
      "outputs": [
        {
          "output_type": "execute_result",
          "data": {
            "text/plain": [
              "19.96410561431729"
            ]
          },
          "metadata": {},
          "execution_count": 61
        }
      ]
    },
    {
      "cell_type": "code",
      "metadata": {
        "colab": {
          "base_uri": "https://localhost:8080/"
        },
        "outputId": "47f5c9c7-f034-4e49-a20e-7cc6abc11b81",
        "id": "I_idRSFYS10G"
      },
      "source": [
        "chi_square_critical =  st.chi2.ppf(alpha, degrees_of_freedom)\n",
        "chi_square_critical"
      ],
      "execution_count": 62,
      "outputs": [
        {
          "output_type": "execute_result",
          "data": {
            "text/plain": [
              "15.65545640168138"
            ]
          },
          "metadata": {},
          "execution_count": 62
        }
      ]
    },
    {
      "cell_type": "code",
      "metadata": {
        "colab": {
          "base_uri": "https://localhost:8080/"
        },
        "outputId": "d2a71980-b524-4ecf-fb72-558dbf70a131",
        "id": "zCZ_LdhRS10G"
      },
      "source": [
        "if (chi_square > chi_square_critical):\n",
        "    print(\"Null hypothesis cannot be rejected\")\n",
        "else:\n",
        "    print(\"Reject null hypothesis\")"
      ],
      "execution_count": 63,
      "outputs": [
        {
          "output_type": "stream",
          "name": "stdout",
          "text": [
            "Null hypothesis cannot be rejected\n"
          ]
        }
      ]
    },
    {
      "cell_type": "markdown",
      "source": [
        "We don't have  enough evidence to conclude that variance of miles run by customers who bought TM195 model is less than the variance of miles run by all the customers."
      ],
      "metadata": {
        "id": "1AxJO23ZiZMy"
      }
    },
    {
      "cell_type": "markdown",
      "source": [
        ""
      ],
      "metadata": {
        "id": "XwpovsVbwyb1"
      }
    },
    {
      "cell_type": "code",
      "source": [
        ""
      ],
      "metadata": {
        "id": "xPvQsSQswzUT"
      },
      "execution_count": 63,
      "outputs": []
    },
    {
      "cell_type": "markdown",
      "metadata": {
        "id": "8xoLVkTkJjod"
      },
      "source": [
        "# **Feature Selection**"
      ]
    },
    {
      "cell_type": "markdown",
      "source": [
        "**Low Variance Filter**"
      ],
      "metadata": {
        "id": "Fc6VAEpNsNGs"
      }
    },
    {
      "cell_type": "code",
      "metadata": {
        "colab": {
          "base_uri": "https://localhost:8080/"
        },
        "id": "PT1R05vVJsdw",
        "outputId": "ee7125f9-300a-4873-fc51-446fedbc1b4b"
      },
      "source": [
        "from sklearn.feature_selection import VarianceThreshold\n",
        "\n",
        "fs = df.copy()\n",
        "labelEnc = LabelEncoder()\n",
        "\n",
        "for i in fs.columns:\n",
        "  fs[i] = labelEnc.fit_transform(fs[i])\n",
        "\n",
        "var_thres = VarianceThreshold(threshold=0)\n",
        "var_thres.fit(fs)"
      ],
      "execution_count": 64,
      "outputs": [
        {
          "output_type": "execute_result",
          "data": {
            "text/plain": [
              "VarianceThreshold(threshold=0)"
            ]
          },
          "metadata": {},
          "execution_count": 64
        }
      ]
    },
    {
      "cell_type": "code",
      "metadata": {
        "colab": {
          "base_uri": "https://localhost:8080/"
        },
        "id": "b1FNLNDkKIqE",
        "outputId": "3f0ec720-1dc7-4c23-ad32-40eb45dbfb2b"
      },
      "source": [
        "var_thres.get_support()"
      ],
      "execution_count": 65,
      "outputs": [
        {
          "output_type": "execute_result",
          "data": {
            "text/plain": [
              "array([ True,  True,  True,  True,  True,  True,  True,  True,  True])"
            ]
          },
          "metadata": {},
          "execution_count": 65
        }
      ]
    },
    {
      "cell_type": "markdown",
      "source": [
        "Observation: \n",
        "*   There is no column with Variance = 0, which means no column with constant values. So there is no alteration in the dataset.\n",
        "\n",
        "\n",
        "\n",
        "\n",
        " "
      ],
      "metadata": {
        "id": "LcxjtoW5eqHB"
      }
    },
    {
      "cell_type": "markdown",
      "metadata": {
        "id": "jduft4wCRi6S"
      },
      "source": [
        "**Removing Duplicate Features**"
      ]
    },
    {
      "cell_type": "code",
      "metadata": {
        "colab": {
          "base_uri": "https://localhost:8080/"
        },
        "id": "08BI4zCvQMZH",
        "outputId": "81b0035b-6889-47bb-fd64-183a739b258b"
      },
      "source": [
        "fs = fs.T\n",
        "df.shape"
      ],
      "execution_count": 66,
      "outputs": [
        {
          "output_type": "execute_result",
          "data": {
            "text/plain": [
              "(146, 9)"
            ]
          },
          "metadata": {},
          "execution_count": 66
        }
      ]
    },
    {
      "cell_type": "code",
      "metadata": {
        "colab": {
          "base_uri": "https://localhost:8080/"
        },
        "id": "YfuIrE6XRw-m",
        "outputId": "758ee069-0281-45f9-eb83-8145ef7f8677"
      },
      "source": [
        "print(fs.duplicated().sum())"
      ],
      "execution_count": 67,
      "outputs": [
        {
          "output_type": "stream",
          "name": "stdout",
          "text": [
            "0\n"
          ]
        }
      ]
    },
    {
      "cell_type": "markdown",
      "source": [
        "Observation: \n",
        "*   There is no duplicated column. So the dataset remains the same.\n"
      ],
      "metadata": {
        "id": "CXCiwp_6fZEW"
      }
    },
    {
      "cell_type": "code",
      "metadata": {
        "colab": {
          "base_uri": "https://localhost:8080/"
        },
        "id": "Ase7r7liSalM",
        "outputId": "04c9c00a-9927-438a-def0-aba053491297"
      },
      "source": [
        "fs = fs.T\n",
        "fs.shape"
      ],
      "execution_count": 68,
      "outputs": [
        {
          "output_type": "execute_result",
          "data": {
            "text/plain": [
              "(146, 9)"
            ]
          },
          "metadata": {},
          "execution_count": 68
        }
      ]
    },
    {
      "cell_type": "markdown",
      "metadata": {
        "id": "Bn6g8wSQSiPO"
      },
      "source": [
        "**Removing highly Correlated columns**"
      ]
    },
    {
      "cell_type": "code",
      "metadata": {
        "colab": {
          "base_uri": "https://localhost:8080/",
          "height": 332
        },
        "id": "bQO4N1CJShes",
        "outputId": "abb1fcda-3435-44f6-d4bb-d978339e0252"
      },
      "source": [
        "fs.corr()"
      ],
      "execution_count": 69,
      "outputs": [
        {
          "output_type": "execute_result",
          "data": {
            "text/html": [
              "\n",
              "  <div id=\"df-698e9433-cc09-47c7-849e-e5714806d817\">\n",
              "    <div class=\"colab-df-container\">\n",
              "      <div>\n",
              "<style scoped>\n",
              "    .dataframe tbody tr th:only-of-type {\n",
              "        vertical-align: middle;\n",
              "    }\n",
              "\n",
              "    .dataframe tbody tr th {\n",
              "        vertical-align: top;\n",
              "    }\n",
              "\n",
              "    .dataframe thead th {\n",
              "        text-align: right;\n",
              "    }\n",
              "</style>\n",
              "<table border=\"1\" class=\"dataframe\">\n",
              "  <thead>\n",
              "    <tr style=\"text-align: right;\">\n",
              "      <th></th>\n",
              "      <th>Product</th>\n",
              "      <th>Age</th>\n",
              "      <th>Gender</th>\n",
              "      <th>Education</th>\n",
              "      <th>MaritalStatus</th>\n",
              "      <th>Usage</th>\n",
              "      <th>Fitness</th>\n",
              "      <th>Income</th>\n",
              "      <th>Miles</th>\n",
              "    </tr>\n",
              "  </thead>\n",
              "  <tbody>\n",
              "    <tr>\n",
              "      <th>Product</th>\n",
              "      <td>1.000000</td>\n",
              "      <td>-0.101206</td>\n",
              "      <td>0.180210</td>\n",
              "      <td>0.220397</td>\n",
              "      <td>0.067689</td>\n",
              "      <td>0.290129</td>\n",
              "      <td>0.379937</td>\n",
              "      <td>0.288146</td>\n",
              "      <td>0.310728</td>\n",
              "    </tr>\n",
              "    <tr>\n",
              "      <th>Age</th>\n",
              "      <td>-0.101206</td>\n",
              "      <td>1.000000</td>\n",
              "      <td>-0.067740</td>\n",
              "      <td>0.318608</td>\n",
              "      <td>-0.221333</td>\n",
              "      <td>-0.067787</td>\n",
              "      <td>-0.076098</td>\n",
              "      <td>0.649050</td>\n",
              "      <td>-0.087363</td>\n",
              "    </tr>\n",
              "    <tr>\n",
              "      <th>Gender</th>\n",
              "      <td>0.180210</td>\n",
              "      <td>-0.067740</td>\n",
              "      <td>1.000000</td>\n",
              "      <td>0.009194</td>\n",
              "      <td>0.041108</td>\n",
              "      <td>0.201045</td>\n",
              "      <td>0.259494</td>\n",
              "      <td>0.096681</td>\n",
              "      <td>0.274211</td>\n",
              "    </tr>\n",
              "    <tr>\n",
              "      <th>Education</th>\n",
              "      <td>0.220397</td>\n",
              "      <td>0.318608</td>\n",
              "      <td>0.009194</td>\n",
              "      <td>1.000000</td>\n",
              "      <td>-0.100244</td>\n",
              "      <td>0.198924</td>\n",
              "      <td>0.244117</td>\n",
              "      <td>0.490914</td>\n",
              "      <td>0.108056</td>\n",
              "    </tr>\n",
              "    <tr>\n",
              "      <th>MaritalStatus</th>\n",
              "      <td>0.067689</td>\n",
              "      <td>-0.221333</td>\n",
              "      <td>0.041108</td>\n",
              "      <td>-0.100244</td>\n",
              "      <td>1.000000</td>\n",
              "      <td>0.130322</td>\n",
              "      <td>0.210011</td>\n",
              "      <td>-0.146966</td>\n",
              "      <td>0.190731</td>\n",
              "    </tr>\n",
              "    <tr>\n",
              "      <th>Usage</th>\n",
              "      <td>0.290129</td>\n",
              "      <td>-0.067787</td>\n",
              "      <td>0.201045</td>\n",
              "      <td>0.198924</td>\n",
              "      <td>0.130322</td>\n",
              "      <td>1.000000</td>\n",
              "      <td>0.480794</td>\n",
              "      <td>0.158336</td>\n",
              "      <td>0.652274</td>\n",
              "    </tr>\n",
              "    <tr>\n",
              "      <th>Fitness</th>\n",
              "      <td>0.379937</td>\n",
              "      <td>-0.076098</td>\n",
              "      <td>0.259494</td>\n",
              "      <td>0.244117</td>\n",
              "      <td>0.210011</td>\n",
              "      <td>0.480794</td>\n",
              "      <td>1.000000</td>\n",
              "      <td>0.174837</td>\n",
              "      <td>0.713348</td>\n",
              "    </tr>\n",
              "    <tr>\n",
              "      <th>Income</th>\n",
              "      <td>0.288146</td>\n",
              "      <td>0.649050</td>\n",
              "      <td>0.096681</td>\n",
              "      <td>0.490914</td>\n",
              "      <td>-0.146966</td>\n",
              "      <td>0.158336</td>\n",
              "      <td>0.174837</td>\n",
              "      <td>1.000000</td>\n",
              "      <td>0.146324</td>\n",
              "    </tr>\n",
              "    <tr>\n",
              "      <th>Miles</th>\n",
              "      <td>0.310728</td>\n",
              "      <td>-0.087363</td>\n",
              "      <td>0.274211</td>\n",
              "      <td>0.108056</td>\n",
              "      <td>0.190731</td>\n",
              "      <td>0.652274</td>\n",
              "      <td>0.713348</td>\n",
              "      <td>0.146324</td>\n",
              "      <td>1.000000</td>\n",
              "    </tr>\n",
              "  </tbody>\n",
              "</table>\n",
              "</div>\n",
              "      <button class=\"colab-df-convert\" onclick=\"convertToInteractive('df-698e9433-cc09-47c7-849e-e5714806d817')\"\n",
              "              title=\"Convert this dataframe to an interactive table.\"\n",
              "              style=\"display:none;\">\n",
              "        \n",
              "  <svg xmlns=\"http://www.w3.org/2000/svg\" height=\"24px\"viewBox=\"0 0 24 24\"\n",
              "       width=\"24px\">\n",
              "    <path d=\"M0 0h24v24H0V0z\" fill=\"none\"/>\n",
              "    <path d=\"M18.56 5.44l.94 2.06.94-2.06 2.06-.94-2.06-.94-.94-2.06-.94 2.06-2.06.94zm-11 1L8.5 8.5l.94-2.06 2.06-.94-2.06-.94L8.5 2.5l-.94 2.06-2.06.94zm10 10l.94 2.06.94-2.06 2.06-.94-2.06-.94-.94-2.06-.94 2.06-2.06.94z\"/><path d=\"M17.41 7.96l-1.37-1.37c-.4-.4-.92-.59-1.43-.59-.52 0-1.04.2-1.43.59L10.3 9.45l-7.72 7.72c-.78.78-.78 2.05 0 2.83L4 21.41c.39.39.9.59 1.41.59.51 0 1.02-.2 1.41-.59l7.78-7.78 2.81-2.81c.8-.78.8-2.07 0-2.86zM5.41 20L4 18.59l7.72-7.72 1.47 1.35L5.41 20z\"/>\n",
              "  </svg>\n",
              "      </button>\n",
              "      \n",
              "  <style>\n",
              "    .colab-df-container {\n",
              "      display:flex;\n",
              "      flex-wrap:wrap;\n",
              "      gap: 12px;\n",
              "    }\n",
              "\n",
              "    .colab-df-convert {\n",
              "      background-color: #E8F0FE;\n",
              "      border: none;\n",
              "      border-radius: 50%;\n",
              "      cursor: pointer;\n",
              "      display: none;\n",
              "      fill: #1967D2;\n",
              "      height: 32px;\n",
              "      padding: 0 0 0 0;\n",
              "      width: 32px;\n",
              "    }\n",
              "\n",
              "    .colab-df-convert:hover {\n",
              "      background-color: #E2EBFA;\n",
              "      box-shadow: 0px 1px 2px rgba(60, 64, 67, 0.3), 0px 1px 3px 1px rgba(60, 64, 67, 0.15);\n",
              "      fill: #174EA6;\n",
              "    }\n",
              "\n",
              "    [theme=dark] .colab-df-convert {\n",
              "      background-color: #3B4455;\n",
              "      fill: #D2E3FC;\n",
              "    }\n",
              "\n",
              "    [theme=dark] .colab-df-convert:hover {\n",
              "      background-color: #434B5C;\n",
              "      box-shadow: 0px 1px 3px 1px rgba(0, 0, 0, 0.15);\n",
              "      filter: drop-shadow(0px 1px 2px rgba(0, 0, 0, 0.3));\n",
              "      fill: #FFFFFF;\n",
              "    }\n",
              "  </style>\n",
              "\n",
              "      <script>\n",
              "        const buttonEl =\n",
              "          document.querySelector('#df-698e9433-cc09-47c7-849e-e5714806d817 button.colab-df-convert');\n",
              "        buttonEl.style.display =\n",
              "          google.colab.kernel.accessAllowed ? 'block' : 'none';\n",
              "\n",
              "        async function convertToInteractive(key) {\n",
              "          const element = document.querySelector('#df-698e9433-cc09-47c7-849e-e5714806d817');\n",
              "          const dataTable =\n",
              "            await google.colab.kernel.invokeFunction('convertToInteractive',\n",
              "                                                     [key], {});\n",
              "          if (!dataTable) return;\n",
              "\n",
              "          const docLinkHtml = 'Like what you see? Visit the ' +\n",
              "            '<a target=\"_blank\" href=https://colab.research.google.com/notebooks/data_table.ipynb>data table notebook</a>'\n",
              "            + ' to learn more about interactive tables.';\n",
              "          element.innerHTML = '';\n",
              "          dataTable['output_type'] = 'display_data';\n",
              "          await google.colab.output.renderOutput(dataTable, element);\n",
              "          const docLink = document.createElement('div');\n",
              "          docLink.innerHTML = docLinkHtml;\n",
              "          element.appendChild(docLink);\n",
              "        }\n",
              "      </script>\n",
              "    </div>\n",
              "  </div>\n",
              "  "
            ],
            "text/plain": [
              "                Product       Age    Gender  ...   Fitness    Income     Miles\n",
              "Product        1.000000 -0.101206  0.180210  ...  0.379937  0.288146  0.310728\n",
              "Age           -0.101206  1.000000 -0.067740  ... -0.076098  0.649050 -0.087363\n",
              "Gender         0.180210 -0.067740  1.000000  ...  0.259494  0.096681  0.274211\n",
              "Education      0.220397  0.318608  0.009194  ...  0.244117  0.490914  0.108056\n",
              "MaritalStatus  0.067689 -0.221333  0.041108  ...  0.210011 -0.146966  0.190731\n",
              "Usage          0.290129 -0.067787  0.201045  ...  0.480794  0.158336  0.652274\n",
              "Fitness        0.379937 -0.076098  0.259494  ...  1.000000  0.174837  0.713348\n",
              "Income         0.288146  0.649050  0.096681  ...  0.174837  1.000000  0.146324\n",
              "Miles          0.310728 -0.087363  0.274211  ...  0.713348  0.146324  1.000000\n",
              "\n",
              "[9 rows x 9 columns]"
            ]
          },
          "metadata": {},
          "execution_count": 69
        }
      ]
    },
    {
      "cell_type": "code",
      "metadata": {
        "colab": {
          "base_uri": "https://localhost:8080/"
        },
        "id": "Zvh4yyKPTJ1O",
        "outputId": "9078334f-b1c9-42ce-a2b8-ba64220d110b"
      },
      "source": [
        "col_corr = set()\n",
        "corr_matrix = fs.corr()\n",
        "for i in range(len(corr_matrix.columns)):\n",
        "  for j in range(i):\n",
        "    if abs(corr_matrix.iloc[i, j]) > 0.75:\n",
        "      colname = corr_matrix.columns[i] \n",
        "      col_corr.add(colname)\n",
        "\n",
        "len(set(col_corr))"
      ],
      "execution_count": 70,
      "outputs": [
        {
          "output_type": "execute_result",
          "data": {
            "text/plain": [
              "0"
            ]
          },
          "metadata": {},
          "execution_count": 70
        }
      ]
    },
    {
      "cell_type": "markdown",
      "source": [
        "Obervation:\n",
        "*   No columns dropped as no two columns have a correlation more than 7.5\n",
        "\n"
      ],
      "metadata": {
        "id": "kkaLL6vTuIl9"
      }
    },
    {
      "cell_type": "markdown",
      "metadata": {
        "id": "VpGu28fy4ZTp"
      },
      "source": [
        " **mutual info**"
      ]
    },
    {
      "cell_type": "code",
      "source": [
        "df.dtypes"
      ],
      "metadata": {
        "colab": {
          "base_uri": "https://localhost:8080/"
        },
        "id": "n8uIKYWIlKyb",
        "outputId": "05a56e26-3fe9-4353-9079-bc903a212a04"
      },
      "execution_count": 71,
      "outputs": [
        {
          "output_type": "execute_result",
          "data": {
            "text/plain": [
              "Product           object\n",
              "Age              float64\n",
              "Gender            object\n",
              "Education        float64\n",
              "MaritalStatus     object\n",
              "Usage            float64\n",
              "Fitness          float64\n",
              "Income           float64\n",
              "Miles            float64\n",
              "dtype: object"
            ]
          },
          "metadata": {},
          "execution_count": 71
        }
      ]
    },
    {
      "cell_type": "code",
      "source": [
        "numcols = list(df.select_dtypes(include='float64').columns)\n",
        "numcols"
      ],
      "metadata": {
        "colab": {
          "base_uri": "https://localhost:8080/"
        },
        "id": "cLdvXp2BlH7M",
        "outputId": "f83dcb2b-ff3f-4ae9-cc40-4a798c72d15f"
      },
      "execution_count": 72,
      "outputs": [
        {
          "output_type": "execute_result",
          "data": {
            "text/plain": [
              "['Age', 'Education', 'Usage', 'Fitness', 'Income', 'Miles']"
            ]
          },
          "metadata": {},
          "execution_count": 72
        }
      ]
    },
    {
      "cell_type": "code",
      "source": [
        "num_df = df[numcols]\n",
        "num_df.head()"
      ],
      "metadata": {
        "colab": {
          "base_uri": "https://localhost:8080/",
          "height": 206
        },
        "id": "9G7_G_edmJUl",
        "outputId": "31fc5759-236a-4fac-d750-1ce9d23aa2d5"
      },
      "execution_count": 73,
      "outputs": [
        {
          "output_type": "execute_result",
          "data": {
            "text/html": [
              "\n",
              "  <div id=\"df-22bee45a-4b05-4589-b201-1db74cc70967\">\n",
              "    <div class=\"colab-df-container\">\n",
              "      <div>\n",
              "<style scoped>\n",
              "    .dataframe tbody tr th:only-of-type {\n",
              "        vertical-align: middle;\n",
              "    }\n",
              "\n",
              "    .dataframe tbody tr th {\n",
              "        vertical-align: top;\n",
              "    }\n",
              "\n",
              "    .dataframe thead th {\n",
              "        text-align: right;\n",
              "    }\n",
              "</style>\n",
              "<table border=\"1\" class=\"dataframe\">\n",
              "  <thead>\n",
              "    <tr style=\"text-align: right;\">\n",
              "      <th></th>\n",
              "      <th>Age</th>\n",
              "      <th>Education</th>\n",
              "      <th>Usage</th>\n",
              "      <th>Fitness</th>\n",
              "      <th>Income</th>\n",
              "      <th>Miles</th>\n",
              "    </tr>\n",
              "  </thead>\n",
              "  <tbody>\n",
              "    <tr>\n",
              "      <th>0</th>\n",
              "      <td>18.0</td>\n",
              "      <td>14.0</td>\n",
              "      <td>3.0</td>\n",
              "      <td>4.0</td>\n",
              "      <td>29562.0</td>\n",
              "      <td>112.0</td>\n",
              "    </tr>\n",
              "    <tr>\n",
              "      <th>1</th>\n",
              "      <td>19.0</td>\n",
              "      <td>15.0</td>\n",
              "      <td>2.0</td>\n",
              "      <td>3.0</td>\n",
              "      <td>31836.0</td>\n",
              "      <td>75.0</td>\n",
              "    </tr>\n",
              "    <tr>\n",
              "      <th>2</th>\n",
              "      <td>19.0</td>\n",
              "      <td>14.0</td>\n",
              "      <td>4.0</td>\n",
              "      <td>3.0</td>\n",
              "      <td>30699.0</td>\n",
              "      <td>66.0</td>\n",
              "    </tr>\n",
              "    <tr>\n",
              "      <th>3</th>\n",
              "      <td>19.0</td>\n",
              "      <td>12.0</td>\n",
              "      <td>3.0</td>\n",
              "      <td>3.0</td>\n",
              "      <td>32973.0</td>\n",
              "      <td>85.0</td>\n",
              "    </tr>\n",
              "    <tr>\n",
              "      <th>4</th>\n",
              "      <td>20.0</td>\n",
              "      <td>13.0</td>\n",
              "      <td>4.0</td>\n",
              "      <td>2.0</td>\n",
              "      <td>35247.0</td>\n",
              "      <td>47.0</td>\n",
              "    </tr>\n",
              "  </tbody>\n",
              "</table>\n",
              "</div>\n",
              "      <button class=\"colab-df-convert\" onclick=\"convertToInteractive('df-22bee45a-4b05-4589-b201-1db74cc70967')\"\n",
              "              title=\"Convert this dataframe to an interactive table.\"\n",
              "              style=\"display:none;\">\n",
              "        \n",
              "  <svg xmlns=\"http://www.w3.org/2000/svg\" height=\"24px\"viewBox=\"0 0 24 24\"\n",
              "       width=\"24px\">\n",
              "    <path d=\"M0 0h24v24H0V0z\" fill=\"none\"/>\n",
              "    <path d=\"M18.56 5.44l.94 2.06.94-2.06 2.06-.94-2.06-.94-.94-2.06-.94 2.06-2.06.94zm-11 1L8.5 8.5l.94-2.06 2.06-.94-2.06-.94L8.5 2.5l-.94 2.06-2.06.94zm10 10l.94 2.06.94-2.06 2.06-.94-2.06-.94-.94-2.06-.94 2.06-2.06.94z\"/><path d=\"M17.41 7.96l-1.37-1.37c-.4-.4-.92-.59-1.43-.59-.52 0-1.04.2-1.43.59L10.3 9.45l-7.72 7.72c-.78.78-.78 2.05 0 2.83L4 21.41c.39.39.9.59 1.41.59.51 0 1.02-.2 1.41-.59l7.78-7.78 2.81-2.81c.8-.78.8-2.07 0-2.86zM5.41 20L4 18.59l7.72-7.72 1.47 1.35L5.41 20z\"/>\n",
              "  </svg>\n",
              "      </button>\n",
              "      \n",
              "  <style>\n",
              "    .colab-df-container {\n",
              "      display:flex;\n",
              "      flex-wrap:wrap;\n",
              "      gap: 12px;\n",
              "    }\n",
              "\n",
              "    .colab-df-convert {\n",
              "      background-color: #E8F0FE;\n",
              "      border: none;\n",
              "      border-radius: 50%;\n",
              "      cursor: pointer;\n",
              "      display: none;\n",
              "      fill: #1967D2;\n",
              "      height: 32px;\n",
              "      padding: 0 0 0 0;\n",
              "      width: 32px;\n",
              "    }\n",
              "\n",
              "    .colab-df-convert:hover {\n",
              "      background-color: #E2EBFA;\n",
              "      box-shadow: 0px 1px 2px rgba(60, 64, 67, 0.3), 0px 1px 3px 1px rgba(60, 64, 67, 0.15);\n",
              "      fill: #174EA6;\n",
              "    }\n",
              "\n",
              "    [theme=dark] .colab-df-convert {\n",
              "      background-color: #3B4455;\n",
              "      fill: #D2E3FC;\n",
              "    }\n",
              "\n",
              "    [theme=dark] .colab-df-convert:hover {\n",
              "      background-color: #434B5C;\n",
              "      box-shadow: 0px 1px 3px 1px rgba(0, 0, 0, 0.15);\n",
              "      filter: drop-shadow(0px 1px 2px rgba(0, 0, 0, 0.3));\n",
              "      fill: #FFFFFF;\n",
              "    }\n",
              "  </style>\n",
              "\n",
              "      <script>\n",
              "        const buttonEl =\n",
              "          document.querySelector('#df-22bee45a-4b05-4589-b201-1db74cc70967 button.colab-df-convert');\n",
              "        buttonEl.style.display =\n",
              "          google.colab.kernel.accessAllowed ? 'block' : 'none';\n",
              "\n",
              "        async function convertToInteractive(key) {\n",
              "          const element = document.querySelector('#df-22bee45a-4b05-4589-b201-1db74cc70967');\n",
              "          const dataTable =\n",
              "            await google.colab.kernel.invokeFunction('convertToInteractive',\n",
              "                                                     [key], {});\n",
              "          if (!dataTable) return;\n",
              "\n",
              "          const docLinkHtml = 'Like what you see? Visit the ' +\n",
              "            '<a target=\"_blank\" href=https://colab.research.google.com/notebooks/data_table.ipynb>data table notebook</a>'\n",
              "            + ' to learn more about interactive tables.';\n",
              "          element.innerHTML = '';\n",
              "          dataTable['output_type'] = 'display_data';\n",
              "          await google.colab.output.renderOutput(dataTable, element);\n",
              "          const docLink = document.createElement('div');\n",
              "          docLink.innerHTML = docLinkHtml;\n",
              "          element.appendChild(docLink);\n",
              "        }\n",
              "      </script>\n",
              "    </div>\n",
              "  </div>\n",
              "  "
            ],
            "text/plain": [
              "    Age  Education  Usage  Fitness   Income  Miles\n",
              "0  18.0       14.0    3.0      4.0  29562.0  112.0\n",
              "1  19.0       15.0    2.0      3.0  31836.0   75.0\n",
              "2  19.0       14.0    4.0      3.0  30699.0   66.0\n",
              "3  19.0       12.0    3.0      3.0  32973.0   85.0\n",
              "4  20.0       13.0    4.0      2.0  35247.0   47.0"
            ]
          },
          "metadata": {},
          "execution_count": 73
        }
      ]
    },
    {
      "cell_type": "code",
      "metadata": {
        "id": "znqn5-EI4Zzb"
      },
      "source": [
        "X= num_df.drop(labels=['Income'], axis=1)\n",
        "y= num_df['Income']"
      ],
      "execution_count": 74,
      "outputs": []
    },
    {
      "cell_type": "code",
      "metadata": {
        "colab": {
          "base_uri": "https://localhost:8080/",
          "height": 206
        },
        "id": "erph6sRK5nnw",
        "outputId": "e295d080-6a45-42e9-cf44-ba6dc4424d42"
      },
      "source": [
        "from sklearn.model_selection import train_test_split\n",
        "X_train,X_test,y_train,y_test=train_test_split(X,y,test_size=0.2,random_state=3)\n",
        "X_train.head()"
      ],
      "execution_count": 75,
      "outputs": [
        {
          "output_type": "execute_result",
          "data": {
            "text/html": [
              "\n",
              "  <div id=\"df-41c314cd-c645-46ff-be7b-546b59fb9188\">\n",
              "    <div class=\"colab-df-container\">\n",
              "      <div>\n",
              "<style scoped>\n",
              "    .dataframe tbody tr th:only-of-type {\n",
              "        vertical-align: middle;\n",
              "    }\n",
              "\n",
              "    .dataframe tbody tr th {\n",
              "        vertical-align: top;\n",
              "    }\n",
              "\n",
              "    .dataframe thead th {\n",
              "        text-align: right;\n",
              "    }\n",
              "</style>\n",
              "<table border=\"1\" class=\"dataframe\">\n",
              "  <thead>\n",
              "    <tr style=\"text-align: right;\">\n",
              "      <th></th>\n",
              "      <th>Age</th>\n",
              "      <th>Education</th>\n",
              "      <th>Usage</th>\n",
              "      <th>Fitness</th>\n",
              "      <th>Miles</th>\n",
              "    </tr>\n",
              "  </thead>\n",
              "  <tbody>\n",
              "    <tr>\n",
              "      <th>31</th>\n",
              "      <td>25.0</td>\n",
              "      <td>16.0</td>\n",
              "      <td>3.0</td>\n",
              "      <td>3.0</td>\n",
              "      <td>85.0</td>\n",
              "    </tr>\n",
              "    <tr>\n",
              "      <th>127</th>\n",
              "      <td>38.0</td>\n",
              "      <td>16.0</td>\n",
              "      <td>4.0</td>\n",
              "      <td>3.0</td>\n",
              "      <td>85.0</td>\n",
              "    </tr>\n",
              "    <tr>\n",
              "      <th>135</th>\n",
              "      <td>23.0</td>\n",
              "      <td>16.0</td>\n",
              "      <td>4.0</td>\n",
              "      <td>5.0</td>\n",
              "      <td>140.0</td>\n",
              "    </tr>\n",
              "    <tr>\n",
              "      <th>121</th>\n",
              "      <td>34.0</td>\n",
              "      <td>15.0</td>\n",
              "      <td>3.0</td>\n",
              "      <td>3.0</td>\n",
              "      <td>85.0</td>\n",
              "    </tr>\n",
              "    <tr>\n",
              "      <th>76</th>\n",
              "      <td>19.0</td>\n",
              "      <td>14.0</td>\n",
              "      <td>3.0</td>\n",
              "      <td>3.0</td>\n",
              "      <td>64.0</td>\n",
              "    </tr>\n",
              "  </tbody>\n",
              "</table>\n",
              "</div>\n",
              "      <button class=\"colab-df-convert\" onclick=\"convertToInteractive('df-41c314cd-c645-46ff-be7b-546b59fb9188')\"\n",
              "              title=\"Convert this dataframe to an interactive table.\"\n",
              "              style=\"display:none;\">\n",
              "        \n",
              "  <svg xmlns=\"http://www.w3.org/2000/svg\" height=\"24px\"viewBox=\"0 0 24 24\"\n",
              "       width=\"24px\">\n",
              "    <path d=\"M0 0h24v24H0V0z\" fill=\"none\"/>\n",
              "    <path d=\"M18.56 5.44l.94 2.06.94-2.06 2.06-.94-2.06-.94-.94-2.06-.94 2.06-2.06.94zm-11 1L8.5 8.5l.94-2.06 2.06-.94-2.06-.94L8.5 2.5l-.94 2.06-2.06.94zm10 10l.94 2.06.94-2.06 2.06-.94-2.06-.94-.94-2.06-.94 2.06-2.06.94z\"/><path d=\"M17.41 7.96l-1.37-1.37c-.4-.4-.92-.59-1.43-.59-.52 0-1.04.2-1.43.59L10.3 9.45l-7.72 7.72c-.78.78-.78 2.05 0 2.83L4 21.41c.39.39.9.59 1.41.59.51 0 1.02-.2 1.41-.59l7.78-7.78 2.81-2.81c.8-.78.8-2.07 0-2.86zM5.41 20L4 18.59l7.72-7.72 1.47 1.35L5.41 20z\"/>\n",
              "  </svg>\n",
              "      </button>\n",
              "      \n",
              "  <style>\n",
              "    .colab-df-container {\n",
              "      display:flex;\n",
              "      flex-wrap:wrap;\n",
              "      gap: 12px;\n",
              "    }\n",
              "\n",
              "    .colab-df-convert {\n",
              "      background-color: #E8F0FE;\n",
              "      border: none;\n",
              "      border-radius: 50%;\n",
              "      cursor: pointer;\n",
              "      display: none;\n",
              "      fill: #1967D2;\n",
              "      height: 32px;\n",
              "      padding: 0 0 0 0;\n",
              "      width: 32px;\n",
              "    }\n",
              "\n",
              "    .colab-df-convert:hover {\n",
              "      background-color: #E2EBFA;\n",
              "      box-shadow: 0px 1px 2px rgba(60, 64, 67, 0.3), 0px 1px 3px 1px rgba(60, 64, 67, 0.15);\n",
              "      fill: #174EA6;\n",
              "    }\n",
              "\n",
              "    [theme=dark] .colab-df-convert {\n",
              "      background-color: #3B4455;\n",
              "      fill: #D2E3FC;\n",
              "    }\n",
              "\n",
              "    [theme=dark] .colab-df-convert:hover {\n",
              "      background-color: #434B5C;\n",
              "      box-shadow: 0px 1px 3px 1px rgba(0, 0, 0, 0.15);\n",
              "      filter: drop-shadow(0px 1px 2px rgba(0, 0, 0, 0.3));\n",
              "      fill: #FFFFFF;\n",
              "    }\n",
              "  </style>\n",
              "\n",
              "      <script>\n",
              "        const buttonEl =\n",
              "          document.querySelector('#df-41c314cd-c645-46ff-be7b-546b59fb9188 button.colab-df-convert');\n",
              "        buttonEl.style.display =\n",
              "          google.colab.kernel.accessAllowed ? 'block' : 'none';\n",
              "\n",
              "        async function convertToInteractive(key) {\n",
              "          const element = document.querySelector('#df-41c314cd-c645-46ff-be7b-546b59fb9188');\n",
              "          const dataTable =\n",
              "            await google.colab.kernel.invokeFunction('convertToInteractive',\n",
              "                                                     [key], {});\n",
              "          if (!dataTable) return;\n",
              "\n",
              "          const docLinkHtml = 'Like what you see? Visit the ' +\n",
              "            '<a target=\"_blank\" href=https://colab.research.google.com/notebooks/data_table.ipynb>data table notebook</a>'\n",
              "            + ' to learn more about interactive tables.';\n",
              "          element.innerHTML = '';\n",
              "          dataTable['output_type'] = 'display_data';\n",
              "          await google.colab.output.renderOutput(dataTable, element);\n",
              "          const docLink = document.createElement('div');\n",
              "          docLink.innerHTML = docLinkHtml;\n",
              "          element.appendChild(docLink);\n",
              "        }\n",
              "      </script>\n",
              "    </div>\n",
              "  </div>\n",
              "  "
            ],
            "text/plain": [
              "      Age  Education  Usage  Fitness  Miles\n",
              "31   25.0       16.0    3.0      3.0   85.0\n",
              "127  38.0       16.0    4.0      3.0   85.0\n",
              "135  23.0       16.0    4.0      5.0  140.0\n",
              "121  34.0       15.0    3.0      3.0   85.0\n",
              "76   19.0       14.0    3.0      3.0   64.0"
            ]
          },
          "metadata": {},
          "execution_count": 75
        }
      ]
    },
    {
      "cell_type": "code",
      "metadata": {
        "colab": {
          "base_uri": "https://localhost:8080/"
        },
        "id": "fB71c3hS51ss",
        "outputId": "57287b65-cc94-45a5-bfe7-d0536cb1c107"
      },
      "source": [
        "from sklearn.feature_selection import mutual_info_regression\n",
        "mutual_info=mutual_info_regression(X_train,y_train)\n",
        "mutual_info"
      ],
      "execution_count": 76,
      "outputs": [
        {
          "output_type": "execute_result",
          "data": {
            "text/plain": [
              "array([0.47949336, 0.13704769, 0.01435478, 0.11872474, 0.07742967])"
            ]
          },
          "metadata": {},
          "execution_count": 76
        }
      ]
    },
    {
      "cell_type": "code",
      "metadata": {
        "colab": {
          "base_uri": "https://localhost:8080/"
        },
        "id": "cmIUnSs_5_wz",
        "outputId": "eb3f20cd-5d22-4840-f228-a7ed2fc245f0"
      },
      "source": [
        "mutual_info=pd.Series(mutual_info)\n",
        "mutual_info.index=X_train.columns\n",
        "mutual_info.sort_values(ascending=False)"
      ],
      "execution_count": 77,
      "outputs": [
        {
          "output_type": "execute_result",
          "data": {
            "text/plain": [
              "Age          0.479493\n",
              "Education    0.137048\n",
              "Fitness      0.118725\n",
              "Miles        0.077430\n",
              "Usage        0.014355\n",
              "dtype: float64"
            ]
          },
          "metadata": {},
          "execution_count": 77
        }
      ]
    },
    {
      "cell_type": "code",
      "metadata": {
        "colab": {
          "base_uri": "https://localhost:8080/"
        },
        "id": "YtXxay9S94sa",
        "outputId": "1249141e-fa1c-4780-8038-16fbc063ee66"
      },
      "source": [
        "dd = pd.DataFrame(mutual_info).T\n",
        "\n",
        "for i in dd.columns:\n",
        "  if (dd[i][0] == 0):\n",
        "    df.drop( i, axis=1, inplace = True)\n",
        "\n",
        "df.shape"
      ],
      "execution_count": 78,
      "outputs": [
        {
          "output_type": "execute_result",
          "data": {
            "text/plain": [
              "(146, 9)"
            ]
          },
          "metadata": {},
          "execution_count": 78
        }
      ]
    },
    {
      "cell_type": "markdown",
      "source": [
        "Observation:\n",
        "*   No columns dropped as there is no column with mutual information zero.\n",
        "\n"
      ],
      "metadata": {
        "id": "p41lrQX6r4c1"
      }
    },
    {
      "cell_type": "markdown",
      "metadata": {
        "id": "2pqLmTd5EB7A"
      },
      "source": [
        "# **Feature Engineering and Dataset Imbalance Handling**\n"
      ]
    },
    {
      "cell_type": "code",
      "metadata": {
        "id": "AtzOCuMYi18t"
      },
      "source": [
        "dfe = df"
      ],
      "execution_count": 79,
      "outputs": []
    },
    {
      "cell_type": "code",
      "metadata": {
        "colab": {
          "base_uri": "https://localhost:8080/"
        },
        "id": "-ZYTIM7-DqTZ",
        "outputId": "598bb53c-7936-47d1-9853-901da0241cda"
      },
      "source": [
        "from sklearn import preprocessing\n",
        " \n",
        "# label_encoder object knows how to understand word labels.\n",
        "label_encoder = preprocessing.LabelEncoder()\n",
        " \n",
        "# Encode labels in column 'species'.\n",
        "dfe['Product']= label_encoder.fit_transform(dfe['Product'])\n",
        " \n",
        "dfe['Product'].unique()"
      ],
      "execution_count": 80,
      "outputs": [
        {
          "output_type": "execute_result",
          "data": {
            "text/plain": [
              "array([0, 1, 2])"
            ]
          },
          "metadata": {},
          "execution_count": 80
        }
      ]
    },
    {
      "cell_type": "code",
      "metadata": {
        "colab": {
          "base_uri": "https://localhost:8080/",
          "height": 206
        },
        "id": "YQ-b_p5kisNu",
        "outputId": "c6c601fb-500c-451d-9f8a-b0d66fe31a02"
      },
      "source": [
        "dfe['MaritalStatus']=label_encoder.fit_transform(dfe['MaritalStatus'])\n",
        "dfe.head()"
      ],
      "execution_count": 81,
      "outputs": [
        {
          "output_type": "execute_result",
          "data": {
            "text/html": [
              "\n",
              "  <div id=\"df-25e539fe-542e-4dbb-b5c3-cd5e770fa766\">\n",
              "    <div class=\"colab-df-container\">\n",
              "      <div>\n",
              "<style scoped>\n",
              "    .dataframe tbody tr th:only-of-type {\n",
              "        vertical-align: middle;\n",
              "    }\n",
              "\n",
              "    .dataframe tbody tr th {\n",
              "        vertical-align: top;\n",
              "    }\n",
              "\n",
              "    .dataframe thead th {\n",
              "        text-align: right;\n",
              "    }\n",
              "</style>\n",
              "<table border=\"1\" class=\"dataframe\">\n",
              "  <thead>\n",
              "    <tr style=\"text-align: right;\">\n",
              "      <th></th>\n",
              "      <th>Product</th>\n",
              "      <th>Age</th>\n",
              "      <th>Gender</th>\n",
              "      <th>Education</th>\n",
              "      <th>MaritalStatus</th>\n",
              "      <th>Usage</th>\n",
              "      <th>Fitness</th>\n",
              "      <th>Income</th>\n",
              "      <th>Miles</th>\n",
              "    </tr>\n",
              "  </thead>\n",
              "  <tbody>\n",
              "    <tr>\n",
              "      <th>0</th>\n",
              "      <td>0</td>\n",
              "      <td>18.0</td>\n",
              "      <td>Male</td>\n",
              "      <td>14.0</td>\n",
              "      <td>1</td>\n",
              "      <td>3.0</td>\n",
              "      <td>4.0</td>\n",
              "      <td>29562.0</td>\n",
              "      <td>112.0</td>\n",
              "    </tr>\n",
              "    <tr>\n",
              "      <th>1</th>\n",
              "      <td>0</td>\n",
              "      <td>19.0</td>\n",
              "      <td>Male</td>\n",
              "      <td>15.0</td>\n",
              "      <td>1</td>\n",
              "      <td>2.0</td>\n",
              "      <td>3.0</td>\n",
              "      <td>31836.0</td>\n",
              "      <td>75.0</td>\n",
              "    </tr>\n",
              "    <tr>\n",
              "      <th>2</th>\n",
              "      <td>0</td>\n",
              "      <td>19.0</td>\n",
              "      <td>Female</td>\n",
              "      <td>14.0</td>\n",
              "      <td>0</td>\n",
              "      <td>4.0</td>\n",
              "      <td>3.0</td>\n",
              "      <td>30699.0</td>\n",
              "      <td>66.0</td>\n",
              "    </tr>\n",
              "    <tr>\n",
              "      <th>3</th>\n",
              "      <td>0</td>\n",
              "      <td>19.0</td>\n",
              "      <td>Male</td>\n",
              "      <td>12.0</td>\n",
              "      <td>1</td>\n",
              "      <td>3.0</td>\n",
              "      <td>3.0</td>\n",
              "      <td>32973.0</td>\n",
              "      <td>85.0</td>\n",
              "    </tr>\n",
              "    <tr>\n",
              "      <th>4</th>\n",
              "      <td>0</td>\n",
              "      <td>20.0</td>\n",
              "      <td>Male</td>\n",
              "      <td>13.0</td>\n",
              "      <td>0</td>\n",
              "      <td>4.0</td>\n",
              "      <td>2.0</td>\n",
              "      <td>35247.0</td>\n",
              "      <td>47.0</td>\n",
              "    </tr>\n",
              "  </tbody>\n",
              "</table>\n",
              "</div>\n",
              "      <button class=\"colab-df-convert\" onclick=\"convertToInteractive('df-25e539fe-542e-4dbb-b5c3-cd5e770fa766')\"\n",
              "              title=\"Convert this dataframe to an interactive table.\"\n",
              "              style=\"display:none;\">\n",
              "        \n",
              "  <svg xmlns=\"http://www.w3.org/2000/svg\" height=\"24px\"viewBox=\"0 0 24 24\"\n",
              "       width=\"24px\">\n",
              "    <path d=\"M0 0h24v24H0V0z\" fill=\"none\"/>\n",
              "    <path d=\"M18.56 5.44l.94 2.06.94-2.06 2.06-.94-2.06-.94-.94-2.06-.94 2.06-2.06.94zm-11 1L8.5 8.5l.94-2.06 2.06-.94-2.06-.94L8.5 2.5l-.94 2.06-2.06.94zm10 10l.94 2.06.94-2.06 2.06-.94-2.06-.94-.94-2.06-.94 2.06-2.06.94z\"/><path d=\"M17.41 7.96l-1.37-1.37c-.4-.4-.92-.59-1.43-.59-.52 0-1.04.2-1.43.59L10.3 9.45l-7.72 7.72c-.78.78-.78 2.05 0 2.83L4 21.41c.39.39.9.59 1.41.59.51 0 1.02-.2 1.41-.59l7.78-7.78 2.81-2.81c.8-.78.8-2.07 0-2.86zM5.41 20L4 18.59l7.72-7.72 1.47 1.35L5.41 20z\"/>\n",
              "  </svg>\n",
              "      </button>\n",
              "      \n",
              "  <style>\n",
              "    .colab-df-container {\n",
              "      display:flex;\n",
              "      flex-wrap:wrap;\n",
              "      gap: 12px;\n",
              "    }\n",
              "\n",
              "    .colab-df-convert {\n",
              "      background-color: #E8F0FE;\n",
              "      border: none;\n",
              "      border-radius: 50%;\n",
              "      cursor: pointer;\n",
              "      display: none;\n",
              "      fill: #1967D2;\n",
              "      height: 32px;\n",
              "      padding: 0 0 0 0;\n",
              "      width: 32px;\n",
              "    }\n",
              "\n",
              "    .colab-df-convert:hover {\n",
              "      background-color: #E2EBFA;\n",
              "      box-shadow: 0px 1px 2px rgba(60, 64, 67, 0.3), 0px 1px 3px 1px rgba(60, 64, 67, 0.15);\n",
              "      fill: #174EA6;\n",
              "    }\n",
              "\n",
              "    [theme=dark] .colab-df-convert {\n",
              "      background-color: #3B4455;\n",
              "      fill: #D2E3FC;\n",
              "    }\n",
              "\n",
              "    [theme=dark] .colab-df-convert:hover {\n",
              "      background-color: #434B5C;\n",
              "      box-shadow: 0px 1px 3px 1px rgba(0, 0, 0, 0.15);\n",
              "      filter: drop-shadow(0px 1px 2px rgba(0, 0, 0, 0.3));\n",
              "      fill: #FFFFFF;\n",
              "    }\n",
              "  </style>\n",
              "\n",
              "      <script>\n",
              "        const buttonEl =\n",
              "          document.querySelector('#df-25e539fe-542e-4dbb-b5c3-cd5e770fa766 button.colab-df-convert');\n",
              "        buttonEl.style.display =\n",
              "          google.colab.kernel.accessAllowed ? 'block' : 'none';\n",
              "\n",
              "        async function convertToInteractive(key) {\n",
              "          const element = document.querySelector('#df-25e539fe-542e-4dbb-b5c3-cd5e770fa766');\n",
              "          const dataTable =\n",
              "            await google.colab.kernel.invokeFunction('convertToInteractive',\n",
              "                                                     [key], {});\n",
              "          if (!dataTable) return;\n",
              "\n",
              "          const docLinkHtml = 'Like what you see? Visit the ' +\n",
              "            '<a target=\"_blank\" href=https://colab.research.google.com/notebooks/data_table.ipynb>data table notebook</a>'\n",
              "            + ' to learn more about interactive tables.';\n",
              "          element.innerHTML = '';\n",
              "          dataTable['output_type'] = 'display_data';\n",
              "          await google.colab.output.renderOutput(dataTable, element);\n",
              "          const docLink = document.createElement('div');\n",
              "          docLink.innerHTML = docLinkHtml;\n",
              "          element.appendChild(docLink);\n",
              "        }\n",
              "      </script>\n",
              "    </div>\n",
              "  </div>\n",
              "  "
            ],
            "text/plain": [
              "   Product   Age  Gender  Education  ...  Usage  Fitness   Income  Miles\n",
              "0        0  18.0    Male       14.0  ...    3.0      4.0  29562.0  112.0\n",
              "1        0  19.0    Male       15.0  ...    2.0      3.0  31836.0   75.0\n",
              "2        0  19.0  Female       14.0  ...    4.0      3.0  30699.0   66.0\n",
              "3        0  19.0    Male       12.0  ...    3.0      3.0  32973.0   85.0\n",
              "4        0  20.0    Male       13.0  ...    4.0      2.0  35247.0   47.0\n",
              "\n",
              "[5 rows x 9 columns]"
            ]
          },
          "metadata": {},
          "execution_count": 81
        }
      ]
    },
    {
      "cell_type": "code",
      "metadata": {
        "id": "QexCKptHii49",
        "colab": {
          "base_uri": "https://localhost:8080/",
          "height": 206
        },
        "outputId": "b3b020c0-92d7-4a95-e9a0-466d658faf8e"
      },
      "source": [
        "dfe['Gender']=label_encoder.fit_transform(dfe['Gender'])\n",
        "dfe.head()"
      ],
      "execution_count": 82,
      "outputs": [
        {
          "output_type": "execute_result",
          "data": {
            "text/html": [
              "\n",
              "  <div id=\"df-e3eb9b9a-d3e8-40aa-8f50-36441087e49f\">\n",
              "    <div class=\"colab-df-container\">\n",
              "      <div>\n",
              "<style scoped>\n",
              "    .dataframe tbody tr th:only-of-type {\n",
              "        vertical-align: middle;\n",
              "    }\n",
              "\n",
              "    .dataframe tbody tr th {\n",
              "        vertical-align: top;\n",
              "    }\n",
              "\n",
              "    .dataframe thead th {\n",
              "        text-align: right;\n",
              "    }\n",
              "</style>\n",
              "<table border=\"1\" class=\"dataframe\">\n",
              "  <thead>\n",
              "    <tr style=\"text-align: right;\">\n",
              "      <th></th>\n",
              "      <th>Product</th>\n",
              "      <th>Age</th>\n",
              "      <th>Gender</th>\n",
              "      <th>Education</th>\n",
              "      <th>MaritalStatus</th>\n",
              "      <th>Usage</th>\n",
              "      <th>Fitness</th>\n",
              "      <th>Income</th>\n",
              "      <th>Miles</th>\n",
              "    </tr>\n",
              "  </thead>\n",
              "  <tbody>\n",
              "    <tr>\n",
              "      <th>0</th>\n",
              "      <td>0</td>\n",
              "      <td>18.0</td>\n",
              "      <td>1</td>\n",
              "      <td>14.0</td>\n",
              "      <td>1</td>\n",
              "      <td>3.0</td>\n",
              "      <td>4.0</td>\n",
              "      <td>29562.0</td>\n",
              "      <td>112.0</td>\n",
              "    </tr>\n",
              "    <tr>\n",
              "      <th>1</th>\n",
              "      <td>0</td>\n",
              "      <td>19.0</td>\n",
              "      <td>1</td>\n",
              "      <td>15.0</td>\n",
              "      <td>1</td>\n",
              "      <td>2.0</td>\n",
              "      <td>3.0</td>\n",
              "      <td>31836.0</td>\n",
              "      <td>75.0</td>\n",
              "    </tr>\n",
              "    <tr>\n",
              "      <th>2</th>\n",
              "      <td>0</td>\n",
              "      <td>19.0</td>\n",
              "      <td>0</td>\n",
              "      <td>14.0</td>\n",
              "      <td>0</td>\n",
              "      <td>4.0</td>\n",
              "      <td>3.0</td>\n",
              "      <td>30699.0</td>\n",
              "      <td>66.0</td>\n",
              "    </tr>\n",
              "    <tr>\n",
              "      <th>3</th>\n",
              "      <td>0</td>\n",
              "      <td>19.0</td>\n",
              "      <td>1</td>\n",
              "      <td>12.0</td>\n",
              "      <td>1</td>\n",
              "      <td>3.0</td>\n",
              "      <td>3.0</td>\n",
              "      <td>32973.0</td>\n",
              "      <td>85.0</td>\n",
              "    </tr>\n",
              "    <tr>\n",
              "      <th>4</th>\n",
              "      <td>0</td>\n",
              "      <td>20.0</td>\n",
              "      <td>1</td>\n",
              "      <td>13.0</td>\n",
              "      <td>0</td>\n",
              "      <td>4.0</td>\n",
              "      <td>2.0</td>\n",
              "      <td>35247.0</td>\n",
              "      <td>47.0</td>\n",
              "    </tr>\n",
              "  </tbody>\n",
              "</table>\n",
              "</div>\n",
              "      <button class=\"colab-df-convert\" onclick=\"convertToInteractive('df-e3eb9b9a-d3e8-40aa-8f50-36441087e49f')\"\n",
              "              title=\"Convert this dataframe to an interactive table.\"\n",
              "              style=\"display:none;\">\n",
              "        \n",
              "  <svg xmlns=\"http://www.w3.org/2000/svg\" height=\"24px\"viewBox=\"0 0 24 24\"\n",
              "       width=\"24px\">\n",
              "    <path d=\"M0 0h24v24H0V0z\" fill=\"none\"/>\n",
              "    <path d=\"M18.56 5.44l.94 2.06.94-2.06 2.06-.94-2.06-.94-.94-2.06-.94 2.06-2.06.94zm-11 1L8.5 8.5l.94-2.06 2.06-.94-2.06-.94L8.5 2.5l-.94 2.06-2.06.94zm10 10l.94 2.06.94-2.06 2.06-.94-2.06-.94-.94-2.06-.94 2.06-2.06.94z\"/><path d=\"M17.41 7.96l-1.37-1.37c-.4-.4-.92-.59-1.43-.59-.52 0-1.04.2-1.43.59L10.3 9.45l-7.72 7.72c-.78.78-.78 2.05 0 2.83L4 21.41c.39.39.9.59 1.41.59.51 0 1.02-.2 1.41-.59l7.78-7.78 2.81-2.81c.8-.78.8-2.07 0-2.86zM5.41 20L4 18.59l7.72-7.72 1.47 1.35L5.41 20z\"/>\n",
              "  </svg>\n",
              "      </button>\n",
              "      \n",
              "  <style>\n",
              "    .colab-df-container {\n",
              "      display:flex;\n",
              "      flex-wrap:wrap;\n",
              "      gap: 12px;\n",
              "    }\n",
              "\n",
              "    .colab-df-convert {\n",
              "      background-color: #E8F0FE;\n",
              "      border: none;\n",
              "      border-radius: 50%;\n",
              "      cursor: pointer;\n",
              "      display: none;\n",
              "      fill: #1967D2;\n",
              "      height: 32px;\n",
              "      padding: 0 0 0 0;\n",
              "      width: 32px;\n",
              "    }\n",
              "\n",
              "    .colab-df-convert:hover {\n",
              "      background-color: #E2EBFA;\n",
              "      box-shadow: 0px 1px 2px rgba(60, 64, 67, 0.3), 0px 1px 3px 1px rgba(60, 64, 67, 0.15);\n",
              "      fill: #174EA6;\n",
              "    }\n",
              "\n",
              "    [theme=dark] .colab-df-convert {\n",
              "      background-color: #3B4455;\n",
              "      fill: #D2E3FC;\n",
              "    }\n",
              "\n",
              "    [theme=dark] .colab-df-convert:hover {\n",
              "      background-color: #434B5C;\n",
              "      box-shadow: 0px 1px 3px 1px rgba(0, 0, 0, 0.15);\n",
              "      filter: drop-shadow(0px 1px 2px rgba(0, 0, 0, 0.3));\n",
              "      fill: #FFFFFF;\n",
              "    }\n",
              "  </style>\n",
              "\n",
              "      <script>\n",
              "        const buttonEl =\n",
              "          document.querySelector('#df-e3eb9b9a-d3e8-40aa-8f50-36441087e49f button.colab-df-convert');\n",
              "        buttonEl.style.display =\n",
              "          google.colab.kernel.accessAllowed ? 'block' : 'none';\n",
              "\n",
              "        async function convertToInteractive(key) {\n",
              "          const element = document.querySelector('#df-e3eb9b9a-d3e8-40aa-8f50-36441087e49f');\n",
              "          const dataTable =\n",
              "            await google.colab.kernel.invokeFunction('convertToInteractive',\n",
              "                                                     [key], {});\n",
              "          if (!dataTable) return;\n",
              "\n",
              "          const docLinkHtml = 'Like what you see? Visit the ' +\n",
              "            '<a target=\"_blank\" href=https://colab.research.google.com/notebooks/data_table.ipynb>data table notebook</a>'\n",
              "            + ' to learn more about interactive tables.';\n",
              "          element.innerHTML = '';\n",
              "          dataTable['output_type'] = 'display_data';\n",
              "          await google.colab.output.renderOutput(dataTable, element);\n",
              "          const docLink = document.createElement('div');\n",
              "          docLink.innerHTML = docLinkHtml;\n",
              "          element.appendChild(docLink);\n",
              "        }\n",
              "      </script>\n",
              "    </div>\n",
              "  </div>\n",
              "  "
            ],
            "text/plain": [
              "   Product   Age  Gender  Education  ...  Usage  Fitness   Income  Miles\n",
              "0        0  18.0       1       14.0  ...    3.0      4.0  29562.0  112.0\n",
              "1        0  19.0       1       15.0  ...    2.0      3.0  31836.0   75.0\n",
              "2        0  19.0       0       14.0  ...    4.0      3.0  30699.0   66.0\n",
              "3        0  19.0       1       12.0  ...    3.0      3.0  32973.0   85.0\n",
              "4        0  20.0       1       13.0  ...    4.0      2.0  35247.0   47.0\n",
              "\n",
              "[5 rows x 9 columns]"
            ]
          },
          "metadata": {},
          "execution_count": 82
        }
      ]
    },
    {
      "cell_type": "code",
      "metadata": {
        "id": "xUf8dKg0mV_b"
      },
      "source": [
        "X = dfe.loc[:, dfe.columns != 'Gender']\n",
        "y = dfe['Gender']"
      ],
      "execution_count": 83,
      "outputs": []
    },
    {
      "cell_type": "code",
      "metadata": {
        "id": "KvuO6l57mUaN",
        "colab": {
          "base_uri": "https://localhost:8080/"
        },
        "outputId": "f732f3a0-5a3e-4f47-e99a-cc6c2a12f570"
      },
      "source": [
        "from sklearn.model_selection import train_test_split\n",
        " \n",
        "# split into 70:30 ration\n",
        "X_train, X_test, y_train, y_test = train_test_split(X, y, test_size = 0.3, random_state = 0)\n",
        " \n",
        "# describes info about train and test set\n",
        "print(\"Number transactions X_train dataset: \", X_train.shape)\n",
        "print(\"Number transactions y_train dataset: \", y_train.shape)\n",
        "print(\"Number transactions X_test dataset: \", X_test.shape)\n",
        "print(\"Number transactions y_test dataset: \", y_test.shape)"
      ],
      "execution_count": 84,
      "outputs": [
        {
          "output_type": "stream",
          "name": "stdout",
          "text": [
            "Number transactions X_train dataset:  (102, 8)\n",
            "Number transactions y_train dataset:  (102,)\n",
            "Number transactions X_test dataset:  (44, 8)\n",
            "Number transactions y_test dataset:  (44,)\n"
          ]
        }
      ]
    },
    {
      "cell_type": "code",
      "metadata": {
        "id": "P12f8GQznGfK",
        "colab": {
          "base_uri": "https://localhost:8080/"
        },
        "outputId": "8b6b59e3-3573-440f-f519-ccee139b5336"
      },
      "source": [
        "# logistic regression object\n",
        "from sklearn.linear_model import LogisticRegression\n",
        "from sklearn.metrics import classification_report\n",
        "from sklearn.metrics import f1_score\n",
        "lr = LogisticRegression()\n",
        " \n",
        "# train the model on train set\n",
        "lr.fit(X_train, y_train.ravel())\n",
        " \n",
        "predictions = lr.predict(X_test)\n",
        " \n",
        "# print classification report\n",
        "print(classification_report(y_test, predictions))"
      ],
      "execution_count": 85,
      "outputs": [
        {
          "output_type": "stream",
          "name": "stdout",
          "text": [
            "              precision    recall  f1-score   support\n",
            "\n",
            "           0       0.50      0.22      0.31        18\n",
            "           1       0.61      0.85      0.71        26\n",
            "\n",
            "    accuracy                           0.59        44\n",
            "   macro avg       0.56      0.53      0.51        44\n",
            "weighted avg       0.57      0.59      0.55        44\n",
            "\n"
          ]
        }
      ]
    },
    {
      "cell_type": "code",
      "metadata": {
        "id": "iuHZca4Mp17l",
        "colab": {
          "base_uri": "https://localhost:8080/"
        },
        "outputId": "54e40a46-be25-47db-fb53-d1cc63e7d43f"
      },
      "source": [
        "f1_score(y_test, predictions, average='macro')"
      ],
      "execution_count": 86,
      "outputs": [
        {
          "output_type": "execute_result",
          "data": {
            "text/plain": [
              "0.5086848635235732"
            ]
          },
          "metadata": {},
          "execution_count": 86
        }
      ]
    },
    {
      "cell_type": "code",
      "metadata": {
        "id": "YFqfgPT-ngRE",
        "colab": {
          "base_uri": "https://localhost:8080/"
        },
        "outputId": "8da4f163-7379-4724-91fb-25b722bd5068"
      },
      "source": [
        "print(\"Before OverSampling, counts of label '1': {}\".format(sum(y_train == 1)))\n",
        "print(\"Before OverSampling, counts of label '0': {} \\n\".format(sum(y_train == 0)))\n",
        " \n",
        "# import SMOTE module from imblearn library\n",
        "# pip install imblearn (if you don't have imblearn in your system)\n",
        "from imblearn.over_sampling import SMOTE\n",
        "sm = SMOTE(random_state = 2)\n",
        "X_train_res, y_train_res = sm.fit_resample(X_train, y_train.ravel())\n",
        " \n",
        "print('After OverSampling, the shape of train_X: {}'.format(X_train_res.shape))\n",
        "print('After OverSampling, the shape of train_y: {} \\n'.format(y_train_res.shape))\n",
        " \n",
        "print(\"After OverSampling, counts of label '1': {}\".format(sum(y_train_res == 1)))\n",
        "print(\"After OverSampling, counts of label '0': {}\".format(sum(y_train_res == 0)))"
      ],
      "execution_count": 87,
      "outputs": [
        {
          "output_type": "stream",
          "name": "stdout",
          "text": [
            "Before OverSampling, counts of label '1': 54\n",
            "Before OverSampling, counts of label '0': 48 \n",
            "\n",
            "After OverSampling, the shape of train_X: (108, 8)\n",
            "After OverSampling, the shape of train_y: (108,) \n",
            "\n",
            "After OverSampling, counts of label '1': 54\n",
            "After OverSampling, counts of label '0': 54\n"
          ]
        }
      ]
    },
    {
      "cell_type": "code",
      "metadata": {
        "id": "F0KqsLgCoGg5",
        "colab": {
          "base_uri": "https://localhost:8080/"
        },
        "outputId": "82251ff1-0f48-4c87-c154-a76d377ebc0a"
      },
      "source": [
        "lr1 = LogisticRegression()\n",
        "lr1.fit(X_train_res, y_train_res.ravel())\n",
        "predictions = lr1.predict(X_test)\n",
        " \n",
        "# print classification report\n",
        "print(classification_report(y_test, predictions))"
      ],
      "execution_count": 88,
      "outputs": [
        {
          "output_type": "stream",
          "name": "stdout",
          "text": [
            "              precision    recall  f1-score   support\n",
            "\n",
            "           0       0.36      0.22      0.28        18\n",
            "           1       0.58      0.73      0.64        26\n",
            "\n",
            "    accuracy                           0.52        44\n",
            "   macro avg       0.47      0.48      0.46        44\n",
            "weighted avg       0.49      0.52      0.49        44\n",
            "\n"
          ]
        }
      ]
    },
    {
      "cell_type": "code",
      "metadata": {
        "id": "FVQns2ZmqBs0",
        "colab": {
          "base_uri": "https://localhost:8080/"
        },
        "outputId": "766c0e3a-c8de-4ef9-aa29-76e45ae98361"
      },
      "source": [
        "f1_score(y_test, predictions, average='macro')"
      ],
      "execution_count": 89,
      "outputs": [
        {
          "output_type": "execute_result",
          "data": {
            "text/plain": [
              "0.4599649327878434"
            ]
          },
          "metadata": {},
          "execution_count": 89
        }
      ]
    },
    {
      "cell_type": "code",
      "metadata": {
        "id": "DYvJcQ0LoPxm",
        "colab": {
          "base_uri": "https://localhost:8080/"
        },
        "outputId": "99e78595-dc6f-486f-fc88-ad823779e895"
      },
      "source": [
        "print(\"Before Undersampling, counts of label '1': {}\".format(sum(y_train == 1)))\n",
        "print(\"Before Undersampling, counts of label '0': {} \\n\".format(sum(y_train == 0)))\n",
        " \n",
        "# apply near miss\n",
        "from imblearn.under_sampling import NearMiss\n",
        "nr = NearMiss()\n",
        " \n",
        "X_train_miss, y_train_miss = nr.fit_resample(X_train, y_train.ravel())\n",
        " \n",
        "print('After Undersampling, the shape of train_X: {}'.format(X_train_miss.shape))\n",
        "print('After Undersampling, the shape of train_y: {} \\n'.format(y_train_miss.shape))\n",
        " \n",
        "print(\"After Undersampling, counts of label '1': {}\".format(sum(y_train_miss == 1)))\n",
        "print(\"After Undersampling, counts of label '0': {}\".format(sum(y_train_miss == 0)))"
      ],
      "execution_count": 90,
      "outputs": [
        {
          "output_type": "stream",
          "name": "stdout",
          "text": [
            "Before Undersampling, counts of label '1': 54\n",
            "Before Undersampling, counts of label '0': 48 \n",
            "\n",
            "After Undersampling, the shape of train_X: (96, 8)\n",
            "After Undersampling, the shape of train_y: (96,) \n",
            "\n",
            "After Undersampling, counts of label '1': 48\n",
            "After Undersampling, counts of label '0': 48\n"
          ]
        }
      ]
    },
    {
      "cell_type": "code",
      "metadata": {
        "id": "7Cqw3BApoWnj",
        "colab": {
          "base_uri": "https://localhost:8080/"
        },
        "outputId": "322c2f29-a957-4263-fad6-a459082398f5"
      },
      "source": [
        "lr2 = LogisticRegression()\n",
        "lr2.fit(X_train_miss, y_train_miss.ravel())\n",
        "predictions = lr2.predict(X_test)\n",
        " \n",
        "# print classification report\n",
        "print(classification_report(y_test, predictions))"
      ],
      "execution_count": 91,
      "outputs": [
        {
          "output_type": "stream",
          "name": "stdout",
          "text": [
            "              precision    recall  f1-score   support\n",
            "\n",
            "           0       0.36      0.22      0.28        18\n",
            "           1       0.58      0.73      0.64        26\n",
            "\n",
            "    accuracy                           0.52        44\n",
            "   macro avg       0.47      0.48      0.46        44\n",
            "weighted avg       0.49      0.52      0.49        44\n",
            "\n"
          ]
        }
      ]
    },
    {
      "cell_type": "code",
      "metadata": {
        "id": "dKVgSp_qqJ7P",
        "colab": {
          "base_uri": "https://localhost:8080/"
        },
        "outputId": "9395d61c-eef8-43c9-f5b2-aca95c11a80b"
      },
      "source": [
        "f1_score(y_test, predictions, average='macro')"
      ],
      "execution_count": 92,
      "outputs": [
        {
          "output_type": "execute_result",
          "data": {
            "text/plain": [
              "0.4599649327878434"
            ]
          },
          "metadata": {},
          "execution_count": 92
        }
      ]
    },
    {
      "cell_type": "markdown",
      "metadata": {
        "id": "ZyIEG_p0qTSq"
      },
      "source": [
        "Higher the F1 Score the better, So with this we understand that SMOTE works better in this case. "
      ]
    },
    {
      "cell_type": "code",
      "source": [
        "dfc = dfe"
      ],
      "metadata": {
        "id": "MDrRjlszTvRX"
      },
      "execution_count": 93,
      "outputs": []
    },
    {
      "cell_type": "code",
      "metadata": {
        "id": "6aOIhLpYEDTG",
        "colab": {
          "base_uri": "https://localhost:8080/",
          "height": 206
        },
        "outputId": "79c82d46-1296-4ee2-c189-9c246f9e11ac"
      },
      "source": [
        "prod_gen_fit=pd.crosstab(index=dfc['Product'],columns=[dfc['Gender'],dfc['Fitness']])\n",
        "prod_gen_fit"
      ],
      "execution_count": 94,
      "outputs": [
        {
          "output_type": "execute_result",
          "data": {
            "text/html": [
              "\n",
              "  <div id=\"df-7fd09e92-e8de-4da4-8d9f-a9695485346e\">\n",
              "    <div class=\"colab-df-container\">\n",
              "      <div>\n",
              "<style scoped>\n",
              "    .dataframe tbody tr th:only-of-type {\n",
              "        vertical-align: middle;\n",
              "    }\n",
              "\n",
              "    .dataframe tbody tr th {\n",
              "        vertical-align: top;\n",
              "    }\n",
              "\n",
              "    .dataframe thead tr th {\n",
              "        text-align: left;\n",
              "    }\n",
              "\n",
              "    .dataframe thead tr:last-of-type th {\n",
              "        text-align: right;\n",
              "    }\n",
              "</style>\n",
              "<table border=\"1\" class=\"dataframe\">\n",
              "  <thead>\n",
              "    <tr>\n",
              "      <th>Gender</th>\n",
              "      <th colspan=\"3\" halign=\"left\">0</th>\n",
              "      <th colspan=\"4\" halign=\"left\">1</th>\n",
              "    </tr>\n",
              "    <tr>\n",
              "      <th>Fitness</th>\n",
              "      <th>2.0</th>\n",
              "      <th>3.0</th>\n",
              "      <th>4.0</th>\n",
              "      <th>2.0</th>\n",
              "      <th>3.0</th>\n",
              "      <th>4.0</th>\n",
              "      <th>5.0</th>\n",
              "    </tr>\n",
              "    <tr>\n",
              "      <th>Product</th>\n",
              "      <th></th>\n",
              "      <th></th>\n",
              "      <th></th>\n",
              "      <th></th>\n",
              "      <th></th>\n",
              "      <th></th>\n",
              "      <th></th>\n",
              "    </tr>\n",
              "  </thead>\n",
              "  <tbody>\n",
              "    <tr>\n",
              "      <th>0</th>\n",
              "      <td>10</td>\n",
              "      <td>25</td>\n",
              "      <td>3</td>\n",
              "      <td>4</td>\n",
              "      <td>27</td>\n",
              "      <td>6</td>\n",
              "      <td>1</td>\n",
              "    </tr>\n",
              "    <tr>\n",
              "      <th>1</th>\n",
              "      <td>6</td>\n",
              "      <td>18</td>\n",
              "      <td>3</td>\n",
              "      <td>6</td>\n",
              "      <td>20</td>\n",
              "      <td>4</td>\n",
              "      <td>0</td>\n",
              "    </tr>\n",
              "    <tr>\n",
              "      <th>2</th>\n",
              "      <td>0</td>\n",
              "      <td>0</td>\n",
              "      <td>1</td>\n",
              "      <td>0</td>\n",
              "      <td>2</td>\n",
              "      <td>2</td>\n",
              "      <td>8</td>\n",
              "    </tr>\n",
              "  </tbody>\n",
              "</table>\n",
              "</div>\n",
              "      <button class=\"colab-df-convert\" onclick=\"convertToInteractive('df-7fd09e92-e8de-4da4-8d9f-a9695485346e')\"\n",
              "              title=\"Convert this dataframe to an interactive table.\"\n",
              "              style=\"display:none;\">\n",
              "        \n",
              "  <svg xmlns=\"http://www.w3.org/2000/svg\" height=\"24px\"viewBox=\"0 0 24 24\"\n",
              "       width=\"24px\">\n",
              "    <path d=\"M0 0h24v24H0V0z\" fill=\"none\"/>\n",
              "    <path d=\"M18.56 5.44l.94 2.06.94-2.06 2.06-.94-2.06-.94-.94-2.06-.94 2.06-2.06.94zm-11 1L8.5 8.5l.94-2.06 2.06-.94-2.06-.94L8.5 2.5l-.94 2.06-2.06.94zm10 10l.94 2.06.94-2.06 2.06-.94-2.06-.94-.94-2.06-.94 2.06-2.06.94z\"/><path d=\"M17.41 7.96l-1.37-1.37c-.4-.4-.92-.59-1.43-.59-.52 0-1.04.2-1.43.59L10.3 9.45l-7.72 7.72c-.78.78-.78 2.05 0 2.83L4 21.41c.39.39.9.59 1.41.59.51 0 1.02-.2 1.41-.59l7.78-7.78 2.81-2.81c.8-.78.8-2.07 0-2.86zM5.41 20L4 18.59l7.72-7.72 1.47 1.35L5.41 20z\"/>\n",
              "  </svg>\n",
              "      </button>\n",
              "      \n",
              "  <style>\n",
              "    .colab-df-container {\n",
              "      display:flex;\n",
              "      flex-wrap:wrap;\n",
              "      gap: 12px;\n",
              "    }\n",
              "\n",
              "    .colab-df-convert {\n",
              "      background-color: #E8F0FE;\n",
              "      border: none;\n",
              "      border-radius: 50%;\n",
              "      cursor: pointer;\n",
              "      display: none;\n",
              "      fill: #1967D2;\n",
              "      height: 32px;\n",
              "      padding: 0 0 0 0;\n",
              "      width: 32px;\n",
              "    }\n",
              "\n",
              "    .colab-df-convert:hover {\n",
              "      background-color: #E2EBFA;\n",
              "      box-shadow: 0px 1px 2px rgba(60, 64, 67, 0.3), 0px 1px 3px 1px rgba(60, 64, 67, 0.15);\n",
              "      fill: #174EA6;\n",
              "    }\n",
              "\n",
              "    [theme=dark] .colab-df-convert {\n",
              "      background-color: #3B4455;\n",
              "      fill: #D2E3FC;\n",
              "    }\n",
              "\n",
              "    [theme=dark] .colab-df-convert:hover {\n",
              "      background-color: #434B5C;\n",
              "      box-shadow: 0px 1px 3px 1px rgba(0, 0, 0, 0.15);\n",
              "      filter: drop-shadow(0px 1px 2px rgba(0, 0, 0, 0.3));\n",
              "      fill: #FFFFFF;\n",
              "    }\n",
              "  </style>\n",
              "\n",
              "      <script>\n",
              "        const buttonEl =\n",
              "          document.querySelector('#df-7fd09e92-e8de-4da4-8d9f-a9695485346e button.colab-df-convert');\n",
              "        buttonEl.style.display =\n",
              "          google.colab.kernel.accessAllowed ? 'block' : 'none';\n",
              "\n",
              "        async function convertToInteractive(key) {\n",
              "          const element = document.querySelector('#df-7fd09e92-e8de-4da4-8d9f-a9695485346e');\n",
              "          const dataTable =\n",
              "            await google.colab.kernel.invokeFunction('convertToInteractive',\n",
              "                                                     [key], {});\n",
              "          if (!dataTable) return;\n",
              "\n",
              "          const docLinkHtml = 'Like what you see? Visit the ' +\n",
              "            '<a target=\"_blank\" href=https://colab.research.google.com/notebooks/data_table.ipynb>data table notebook</a>'\n",
              "            + ' to learn more about interactive tables.';\n",
              "          element.innerHTML = '';\n",
              "          dataTable['output_type'] = 'display_data';\n",
              "          await google.colab.output.renderOutput(dataTable, element);\n",
              "          const docLink = document.createElement('div');\n",
              "          docLink.innerHTML = docLinkHtml;\n",
              "          element.appendChild(docLink);\n",
              "        }\n",
              "      </script>\n",
              "    </div>\n",
              "  </div>\n",
              "  "
            ],
            "text/plain": [
              "Gender    0           1            \n",
              "Fitness 2.0 3.0 4.0 2.0 3.0 4.0 5.0\n",
              "Product                            \n",
              "0        10  25   3   4  27   6   1\n",
              "1         6  18   3   6  20   4   0\n",
              "2         0   0   1   0   2   2   8"
            ]
          },
          "metadata": {},
          "execution_count": 94
        }
      ]
    },
    {
      "cell_type": "code",
      "metadata": {
        "id": "wnuNm7b6EDw3",
        "colab": {
          "base_uri": "https://localhost:8080/",
          "height": 269
        },
        "outputId": "6146e099-0a16-437a-b979-8192e25fd5c2"
      },
      "source": [
        "pd.pivot_table(dfc,'Income',index=['Product','Gender'],columns=['MaritalStatus'])"
      ],
      "execution_count": 95,
      "outputs": [
        {
          "output_type": "execute_result",
          "data": {
            "text/html": [
              "\n",
              "  <div id=\"df-725648a4-6c84-43bb-8cb6-35003d3c7876\">\n",
              "    <div class=\"colab-df-container\">\n",
              "      <div>\n",
              "<style scoped>\n",
              "    .dataframe tbody tr th:only-of-type {\n",
              "        vertical-align: middle;\n",
              "    }\n",
              "\n",
              "    .dataframe tbody tr th {\n",
              "        vertical-align: top;\n",
              "    }\n",
              "\n",
              "    .dataframe thead th {\n",
              "        text-align: right;\n",
              "    }\n",
              "</style>\n",
              "<table border=\"1\" class=\"dataframe\">\n",
              "  <thead>\n",
              "    <tr style=\"text-align: right;\">\n",
              "      <th></th>\n",
              "      <th>MaritalStatus</th>\n",
              "      <th>0</th>\n",
              "      <th>1</th>\n",
              "    </tr>\n",
              "    <tr>\n",
              "      <th>Product</th>\n",
              "      <th>Gender</th>\n",
              "      <th></th>\n",
              "      <th></th>\n",
              "    </tr>\n",
              "  </thead>\n",
              "  <tbody>\n",
              "    <tr>\n",
              "      <th rowspan=\"2\" valign=\"top\">0</th>\n",
              "      <th>0</th>\n",
              "      <td>45480.000000</td>\n",
              "      <td>45742.384615</td>\n",
              "    </tr>\n",
              "    <tr>\n",
              "      <th>1</th>\n",
              "      <td>50267.368421</td>\n",
              "      <td>43265.842105</td>\n",
              "    </tr>\n",
              "    <tr>\n",
              "      <th rowspan=\"2\" valign=\"top\">1</th>\n",
              "      <th>0</th>\n",
              "      <td>50840.142857</td>\n",
              "      <td>47666.538462</td>\n",
              "    </tr>\n",
              "    <tr>\n",
              "      <th>1</th>\n",
              "      <td>48947.850000</td>\n",
              "      <td>47071.800000</td>\n",
              "    </tr>\n",
              "    <tr>\n",
              "      <th rowspan=\"2\" valign=\"top\">2</th>\n",
              "      <th>0</th>\n",
              "      <td>NaN</td>\n",
              "      <td>53536.000000</td>\n",
              "    </tr>\n",
              "    <tr>\n",
              "      <th>1</th>\n",
              "      <td>59761.000000</td>\n",
              "      <td>53372.571429</td>\n",
              "    </tr>\n",
              "  </tbody>\n",
              "</table>\n",
              "</div>\n",
              "      <button class=\"colab-df-convert\" onclick=\"convertToInteractive('df-725648a4-6c84-43bb-8cb6-35003d3c7876')\"\n",
              "              title=\"Convert this dataframe to an interactive table.\"\n",
              "              style=\"display:none;\">\n",
              "        \n",
              "  <svg xmlns=\"http://www.w3.org/2000/svg\" height=\"24px\"viewBox=\"0 0 24 24\"\n",
              "       width=\"24px\">\n",
              "    <path d=\"M0 0h24v24H0V0z\" fill=\"none\"/>\n",
              "    <path d=\"M18.56 5.44l.94 2.06.94-2.06 2.06-.94-2.06-.94-.94-2.06-.94 2.06-2.06.94zm-11 1L8.5 8.5l.94-2.06 2.06-.94-2.06-.94L8.5 2.5l-.94 2.06-2.06.94zm10 10l.94 2.06.94-2.06 2.06-.94-2.06-.94-.94-2.06-.94 2.06-2.06.94z\"/><path d=\"M17.41 7.96l-1.37-1.37c-.4-.4-.92-.59-1.43-.59-.52 0-1.04.2-1.43.59L10.3 9.45l-7.72 7.72c-.78.78-.78 2.05 0 2.83L4 21.41c.39.39.9.59 1.41.59.51 0 1.02-.2 1.41-.59l7.78-7.78 2.81-2.81c.8-.78.8-2.07 0-2.86zM5.41 20L4 18.59l7.72-7.72 1.47 1.35L5.41 20z\"/>\n",
              "  </svg>\n",
              "      </button>\n",
              "      \n",
              "  <style>\n",
              "    .colab-df-container {\n",
              "      display:flex;\n",
              "      flex-wrap:wrap;\n",
              "      gap: 12px;\n",
              "    }\n",
              "\n",
              "    .colab-df-convert {\n",
              "      background-color: #E8F0FE;\n",
              "      border: none;\n",
              "      border-radius: 50%;\n",
              "      cursor: pointer;\n",
              "      display: none;\n",
              "      fill: #1967D2;\n",
              "      height: 32px;\n",
              "      padding: 0 0 0 0;\n",
              "      width: 32px;\n",
              "    }\n",
              "\n",
              "    .colab-df-convert:hover {\n",
              "      background-color: #E2EBFA;\n",
              "      box-shadow: 0px 1px 2px rgba(60, 64, 67, 0.3), 0px 1px 3px 1px rgba(60, 64, 67, 0.15);\n",
              "      fill: #174EA6;\n",
              "    }\n",
              "\n",
              "    [theme=dark] .colab-df-convert {\n",
              "      background-color: #3B4455;\n",
              "      fill: #D2E3FC;\n",
              "    }\n",
              "\n",
              "    [theme=dark] .colab-df-convert:hover {\n",
              "      background-color: #434B5C;\n",
              "      box-shadow: 0px 1px 3px 1px rgba(0, 0, 0, 0.15);\n",
              "      filter: drop-shadow(0px 1px 2px rgba(0, 0, 0, 0.3));\n",
              "      fill: #FFFFFF;\n",
              "    }\n",
              "  </style>\n",
              "\n",
              "      <script>\n",
              "        const buttonEl =\n",
              "          document.querySelector('#df-725648a4-6c84-43bb-8cb6-35003d3c7876 button.colab-df-convert');\n",
              "        buttonEl.style.display =\n",
              "          google.colab.kernel.accessAllowed ? 'block' : 'none';\n",
              "\n",
              "        async function convertToInteractive(key) {\n",
              "          const element = document.querySelector('#df-725648a4-6c84-43bb-8cb6-35003d3c7876');\n",
              "          const dataTable =\n",
              "            await google.colab.kernel.invokeFunction('convertToInteractive',\n",
              "                                                     [key], {});\n",
              "          if (!dataTable) return;\n",
              "\n",
              "          const docLinkHtml = 'Like what you see? Visit the ' +\n",
              "            '<a target=\"_blank\" href=https://colab.research.google.com/notebooks/data_table.ipynb>data table notebook</a>'\n",
              "            + ' to learn more about interactive tables.';\n",
              "          element.innerHTML = '';\n",
              "          dataTable['output_type'] = 'display_data';\n",
              "          await google.colab.output.renderOutput(dataTable, element);\n",
              "          const docLink = document.createElement('div');\n",
              "          docLink.innerHTML = docLinkHtml;\n",
              "          element.appendChild(docLink);\n",
              "        }\n",
              "      </script>\n",
              "    </div>\n",
              "  </div>\n",
              "  "
            ],
            "text/plain": [
              "MaritalStatus              0             1\n",
              "Product Gender                            \n",
              "0       0       45480.000000  45742.384615\n",
              "        1       50267.368421  43265.842105\n",
              "1       0       50840.142857  47666.538462\n",
              "        1       48947.850000  47071.800000\n",
              "2       0                NaN  53536.000000\n",
              "        1       59761.000000  53372.571429"
            ]
          },
          "metadata": {},
          "execution_count": 95
        }
      ]
    },
    {
      "cell_type": "code",
      "metadata": {
        "id": "KQCVPFkJKcVD",
        "colab": {
          "base_uri": "https://localhost:8080/",
          "height": 175
        },
        "outputId": "a1600e4a-7744-4a2a-c37a-92264792a222"
      },
      "source": [
        "dfc.groupby(dfc.Product).mean()"
      ],
      "execution_count": 96,
      "outputs": [
        {
          "output_type": "execute_result",
          "data": {
            "text/html": [
              "\n",
              "  <div id=\"df-196faef4-8d35-4e79-bfb9-8a451a1fa2af\">\n",
              "    <div class=\"colab-df-container\">\n",
              "      <div>\n",
              "<style scoped>\n",
              "    .dataframe tbody tr th:only-of-type {\n",
              "        vertical-align: middle;\n",
              "    }\n",
              "\n",
              "    .dataframe tbody tr th {\n",
              "        vertical-align: top;\n",
              "    }\n",
              "\n",
              "    .dataframe thead th {\n",
              "        text-align: right;\n",
              "    }\n",
              "</style>\n",
              "<table border=\"1\" class=\"dataframe\">\n",
              "  <thead>\n",
              "    <tr style=\"text-align: right;\">\n",
              "      <th></th>\n",
              "      <th>Age</th>\n",
              "      <th>Gender</th>\n",
              "      <th>Education</th>\n",
              "      <th>MaritalStatus</th>\n",
              "      <th>Usage</th>\n",
              "      <th>Fitness</th>\n",
              "      <th>Income</th>\n",
              "      <th>Miles</th>\n",
              "    </tr>\n",
              "    <tr>\n",
              "      <th>Product</th>\n",
              "      <th></th>\n",
              "      <th></th>\n",
              "      <th></th>\n",
              "      <th></th>\n",
              "      <th></th>\n",
              "      <th></th>\n",
              "      <th></th>\n",
              "      <th></th>\n",
              "    </tr>\n",
              "  </thead>\n",
              "  <tbody>\n",
              "    <tr>\n",
              "      <th>0</th>\n",
              "      <td>28.157895</td>\n",
              "      <td>0.500000</td>\n",
              "      <td>14.986842</td>\n",
              "      <td>0.421053</td>\n",
              "      <td>3.052632</td>\n",
              "      <td>2.960526</td>\n",
              "      <td>46168.184211</td>\n",
              "      <td>81.947368</td>\n",
              "    </tr>\n",
              "    <tr>\n",
              "      <th>1</th>\n",
              "      <td>28.666667</td>\n",
              "      <td>0.526316</td>\n",
              "      <td>15.070175</td>\n",
              "      <td>0.403509</td>\n",
              "      <td>3.070175</td>\n",
              "      <td>2.912281</td>\n",
              "      <td>48791.263158</td>\n",
              "      <td>87.350877</td>\n",
              "    </tr>\n",
              "    <tr>\n",
              "      <th>2</th>\n",
              "      <td>24.230769</td>\n",
              "      <td>0.923077</td>\n",
              "      <td>16.461538</td>\n",
              "      <td>0.615385</td>\n",
              "      <td>4.230769</td>\n",
              "      <td>4.461538</td>\n",
              "      <td>55842.230769</td>\n",
              "      <td>126.615385</td>\n",
              "    </tr>\n",
              "  </tbody>\n",
              "</table>\n",
              "</div>\n",
              "      <button class=\"colab-df-convert\" onclick=\"convertToInteractive('df-196faef4-8d35-4e79-bfb9-8a451a1fa2af')\"\n",
              "              title=\"Convert this dataframe to an interactive table.\"\n",
              "              style=\"display:none;\">\n",
              "        \n",
              "  <svg xmlns=\"http://www.w3.org/2000/svg\" height=\"24px\"viewBox=\"0 0 24 24\"\n",
              "       width=\"24px\">\n",
              "    <path d=\"M0 0h24v24H0V0z\" fill=\"none\"/>\n",
              "    <path d=\"M18.56 5.44l.94 2.06.94-2.06 2.06-.94-2.06-.94-.94-2.06-.94 2.06-2.06.94zm-11 1L8.5 8.5l.94-2.06 2.06-.94-2.06-.94L8.5 2.5l-.94 2.06-2.06.94zm10 10l.94 2.06.94-2.06 2.06-.94-2.06-.94-.94-2.06-.94 2.06-2.06.94z\"/><path d=\"M17.41 7.96l-1.37-1.37c-.4-.4-.92-.59-1.43-.59-.52 0-1.04.2-1.43.59L10.3 9.45l-7.72 7.72c-.78.78-.78 2.05 0 2.83L4 21.41c.39.39.9.59 1.41.59.51 0 1.02-.2 1.41-.59l7.78-7.78 2.81-2.81c.8-.78.8-2.07 0-2.86zM5.41 20L4 18.59l7.72-7.72 1.47 1.35L5.41 20z\"/>\n",
              "  </svg>\n",
              "      </button>\n",
              "      \n",
              "  <style>\n",
              "    .colab-df-container {\n",
              "      display:flex;\n",
              "      flex-wrap:wrap;\n",
              "      gap: 12px;\n",
              "    }\n",
              "\n",
              "    .colab-df-convert {\n",
              "      background-color: #E8F0FE;\n",
              "      border: none;\n",
              "      border-radius: 50%;\n",
              "      cursor: pointer;\n",
              "      display: none;\n",
              "      fill: #1967D2;\n",
              "      height: 32px;\n",
              "      padding: 0 0 0 0;\n",
              "      width: 32px;\n",
              "    }\n",
              "\n",
              "    .colab-df-convert:hover {\n",
              "      background-color: #E2EBFA;\n",
              "      box-shadow: 0px 1px 2px rgba(60, 64, 67, 0.3), 0px 1px 3px 1px rgba(60, 64, 67, 0.15);\n",
              "      fill: #174EA6;\n",
              "    }\n",
              "\n",
              "    [theme=dark] .colab-df-convert {\n",
              "      background-color: #3B4455;\n",
              "      fill: #D2E3FC;\n",
              "    }\n",
              "\n",
              "    [theme=dark] .colab-df-convert:hover {\n",
              "      background-color: #434B5C;\n",
              "      box-shadow: 0px 1px 3px 1px rgba(0, 0, 0, 0.15);\n",
              "      filter: drop-shadow(0px 1px 2px rgba(0, 0, 0, 0.3));\n",
              "      fill: #FFFFFF;\n",
              "    }\n",
              "  </style>\n",
              "\n",
              "      <script>\n",
              "        const buttonEl =\n",
              "          document.querySelector('#df-196faef4-8d35-4e79-bfb9-8a451a1fa2af button.colab-df-convert');\n",
              "        buttonEl.style.display =\n",
              "          google.colab.kernel.accessAllowed ? 'block' : 'none';\n",
              "\n",
              "        async function convertToInteractive(key) {\n",
              "          const element = document.querySelector('#df-196faef4-8d35-4e79-bfb9-8a451a1fa2af');\n",
              "          const dataTable =\n",
              "            await google.colab.kernel.invokeFunction('convertToInteractive',\n",
              "                                                     [key], {});\n",
              "          if (!dataTable) return;\n",
              "\n",
              "          const docLinkHtml = 'Like what you see? Visit the ' +\n",
              "            '<a target=\"_blank\" href=https://colab.research.google.com/notebooks/data_table.ipynb>data table notebook</a>'\n",
              "            + ' to learn more about interactive tables.';\n",
              "          element.innerHTML = '';\n",
              "          dataTable['output_type'] = 'display_data';\n",
              "          await google.colab.output.renderOutput(dataTable, element);\n",
              "          const docLink = document.createElement('div');\n",
              "          docLink.innerHTML = docLinkHtml;\n",
              "          element.appendChild(docLink);\n",
              "        }\n",
              "      </script>\n",
              "    </div>\n",
              "  </div>\n",
              "  "
            ],
            "text/plain": [
              "               Age    Gender  Education  ...   Fitness        Income       Miles\n",
              "Product                                  ...                                    \n",
              "0        28.157895  0.500000  14.986842  ...  2.960526  46168.184211   81.947368\n",
              "1        28.666667  0.526316  15.070175  ...  2.912281  48791.263158   87.350877\n",
              "2        24.230769  0.923077  16.461538  ...  4.461538  55842.230769  126.615385\n",
              "\n",
              "[3 rows x 8 columns]"
            ]
          },
          "metadata": {},
          "execution_count": 96
        }
      ]
    },
    {
      "cell_type": "markdown",
      "source": [
        "# **Regression Model**"
      ],
      "metadata": {
        "id": "6Av8f-sELmRb"
      }
    },
    {
      "cell_type": "code",
      "metadata": {
        "id": "nVvCr3kAvpV2",
        "colab": {
          "base_uri": "https://localhost:8080/",
          "height": 206
        },
        "outputId": "1cd4f91a-2877-404f-ea4a-95065ddc1f07"
      },
      "source": [
        "df['Gender'] = df['Gender'].replace('Male', 0)\n",
        "df['Gender'] = df['Gender'].replace('Female', 1)\n",
        "df['MaritalStatus'] = df['MaritalStatus'].replace('Single', 0)\n",
        "df['MaritalStatus'] = df['MaritalStatus'].replace('Partnered', 1)\n",
        "df.head()"
      ],
      "execution_count": 97,
      "outputs": [
        {
          "output_type": "execute_result",
          "data": {
            "text/html": [
              "\n",
              "  <div id=\"df-67a96a2c-a8db-4c57-ba59-a6fc7e2d8677\">\n",
              "    <div class=\"colab-df-container\">\n",
              "      <div>\n",
              "<style scoped>\n",
              "    .dataframe tbody tr th:only-of-type {\n",
              "        vertical-align: middle;\n",
              "    }\n",
              "\n",
              "    .dataframe tbody tr th {\n",
              "        vertical-align: top;\n",
              "    }\n",
              "\n",
              "    .dataframe thead th {\n",
              "        text-align: right;\n",
              "    }\n",
              "</style>\n",
              "<table border=\"1\" class=\"dataframe\">\n",
              "  <thead>\n",
              "    <tr style=\"text-align: right;\">\n",
              "      <th></th>\n",
              "      <th>Product</th>\n",
              "      <th>Age</th>\n",
              "      <th>Gender</th>\n",
              "      <th>Education</th>\n",
              "      <th>MaritalStatus</th>\n",
              "      <th>Usage</th>\n",
              "      <th>Fitness</th>\n",
              "      <th>Income</th>\n",
              "      <th>Miles</th>\n",
              "    </tr>\n",
              "  </thead>\n",
              "  <tbody>\n",
              "    <tr>\n",
              "      <th>0</th>\n",
              "      <td>0</td>\n",
              "      <td>18.0</td>\n",
              "      <td>1</td>\n",
              "      <td>14.0</td>\n",
              "      <td>1</td>\n",
              "      <td>3.0</td>\n",
              "      <td>4.0</td>\n",
              "      <td>29562.0</td>\n",
              "      <td>112.0</td>\n",
              "    </tr>\n",
              "    <tr>\n",
              "      <th>1</th>\n",
              "      <td>0</td>\n",
              "      <td>19.0</td>\n",
              "      <td>1</td>\n",
              "      <td>15.0</td>\n",
              "      <td>1</td>\n",
              "      <td>2.0</td>\n",
              "      <td>3.0</td>\n",
              "      <td>31836.0</td>\n",
              "      <td>75.0</td>\n",
              "    </tr>\n",
              "    <tr>\n",
              "      <th>2</th>\n",
              "      <td>0</td>\n",
              "      <td>19.0</td>\n",
              "      <td>0</td>\n",
              "      <td>14.0</td>\n",
              "      <td>0</td>\n",
              "      <td>4.0</td>\n",
              "      <td>3.0</td>\n",
              "      <td>30699.0</td>\n",
              "      <td>66.0</td>\n",
              "    </tr>\n",
              "    <tr>\n",
              "      <th>3</th>\n",
              "      <td>0</td>\n",
              "      <td>19.0</td>\n",
              "      <td>1</td>\n",
              "      <td>12.0</td>\n",
              "      <td>1</td>\n",
              "      <td>3.0</td>\n",
              "      <td>3.0</td>\n",
              "      <td>32973.0</td>\n",
              "      <td>85.0</td>\n",
              "    </tr>\n",
              "    <tr>\n",
              "      <th>4</th>\n",
              "      <td>0</td>\n",
              "      <td>20.0</td>\n",
              "      <td>1</td>\n",
              "      <td>13.0</td>\n",
              "      <td>0</td>\n",
              "      <td>4.0</td>\n",
              "      <td>2.0</td>\n",
              "      <td>35247.0</td>\n",
              "      <td>47.0</td>\n",
              "    </tr>\n",
              "  </tbody>\n",
              "</table>\n",
              "</div>\n",
              "      <button class=\"colab-df-convert\" onclick=\"convertToInteractive('df-67a96a2c-a8db-4c57-ba59-a6fc7e2d8677')\"\n",
              "              title=\"Convert this dataframe to an interactive table.\"\n",
              "              style=\"display:none;\">\n",
              "        \n",
              "  <svg xmlns=\"http://www.w3.org/2000/svg\" height=\"24px\"viewBox=\"0 0 24 24\"\n",
              "       width=\"24px\">\n",
              "    <path d=\"M0 0h24v24H0V0z\" fill=\"none\"/>\n",
              "    <path d=\"M18.56 5.44l.94 2.06.94-2.06 2.06-.94-2.06-.94-.94-2.06-.94 2.06-2.06.94zm-11 1L8.5 8.5l.94-2.06 2.06-.94-2.06-.94L8.5 2.5l-.94 2.06-2.06.94zm10 10l.94 2.06.94-2.06 2.06-.94-2.06-.94-.94-2.06-.94 2.06-2.06.94z\"/><path d=\"M17.41 7.96l-1.37-1.37c-.4-.4-.92-.59-1.43-.59-.52 0-1.04.2-1.43.59L10.3 9.45l-7.72 7.72c-.78.78-.78 2.05 0 2.83L4 21.41c.39.39.9.59 1.41.59.51 0 1.02-.2 1.41-.59l7.78-7.78 2.81-2.81c.8-.78.8-2.07 0-2.86zM5.41 20L4 18.59l7.72-7.72 1.47 1.35L5.41 20z\"/>\n",
              "  </svg>\n",
              "      </button>\n",
              "      \n",
              "  <style>\n",
              "    .colab-df-container {\n",
              "      display:flex;\n",
              "      flex-wrap:wrap;\n",
              "      gap: 12px;\n",
              "    }\n",
              "\n",
              "    .colab-df-convert {\n",
              "      background-color: #E8F0FE;\n",
              "      border: none;\n",
              "      border-radius: 50%;\n",
              "      cursor: pointer;\n",
              "      display: none;\n",
              "      fill: #1967D2;\n",
              "      height: 32px;\n",
              "      padding: 0 0 0 0;\n",
              "      width: 32px;\n",
              "    }\n",
              "\n",
              "    .colab-df-convert:hover {\n",
              "      background-color: #E2EBFA;\n",
              "      box-shadow: 0px 1px 2px rgba(60, 64, 67, 0.3), 0px 1px 3px 1px rgba(60, 64, 67, 0.15);\n",
              "      fill: #174EA6;\n",
              "    }\n",
              "\n",
              "    [theme=dark] .colab-df-convert {\n",
              "      background-color: #3B4455;\n",
              "      fill: #D2E3FC;\n",
              "    }\n",
              "\n",
              "    [theme=dark] .colab-df-convert:hover {\n",
              "      background-color: #434B5C;\n",
              "      box-shadow: 0px 1px 3px 1px rgba(0, 0, 0, 0.15);\n",
              "      filter: drop-shadow(0px 1px 2px rgba(0, 0, 0, 0.3));\n",
              "      fill: #FFFFFF;\n",
              "    }\n",
              "  </style>\n",
              "\n",
              "      <script>\n",
              "        const buttonEl =\n",
              "          document.querySelector('#df-67a96a2c-a8db-4c57-ba59-a6fc7e2d8677 button.colab-df-convert');\n",
              "        buttonEl.style.display =\n",
              "          google.colab.kernel.accessAllowed ? 'block' : 'none';\n",
              "\n",
              "        async function convertToInteractive(key) {\n",
              "          const element = document.querySelector('#df-67a96a2c-a8db-4c57-ba59-a6fc7e2d8677');\n",
              "          const dataTable =\n",
              "            await google.colab.kernel.invokeFunction('convertToInteractive',\n",
              "                                                     [key], {});\n",
              "          if (!dataTable) return;\n",
              "\n",
              "          const docLinkHtml = 'Like what you see? Visit the ' +\n",
              "            '<a target=\"_blank\" href=https://colab.research.google.com/notebooks/data_table.ipynb>data table notebook</a>'\n",
              "            + ' to learn more about interactive tables.';\n",
              "          element.innerHTML = '';\n",
              "          dataTable['output_type'] = 'display_data';\n",
              "          await google.colab.output.renderOutput(dataTable, element);\n",
              "          const docLink = document.createElement('div');\n",
              "          docLink.innerHTML = docLinkHtml;\n",
              "          element.appendChild(docLink);\n",
              "        }\n",
              "      </script>\n",
              "    </div>\n",
              "  </div>\n",
              "  "
            ],
            "text/plain": [
              "   Product   Age  Gender  Education  ...  Usage  Fitness   Income  Miles\n",
              "0        0  18.0       1       14.0  ...    3.0      4.0  29562.0  112.0\n",
              "1        0  19.0       1       15.0  ...    2.0      3.0  31836.0   75.0\n",
              "2        0  19.0       0       14.0  ...    4.0      3.0  30699.0   66.0\n",
              "3        0  19.0       1       12.0  ...    3.0      3.0  32973.0   85.0\n",
              "4        0  20.0       1       13.0  ...    4.0      2.0  35247.0   47.0\n",
              "\n",
              "[5 rows x 9 columns]"
            ]
          },
          "metadata": {},
          "execution_count": 97
        }
      ]
    },
    {
      "cell_type": "code",
      "metadata": {
        "id": "0IYXUtP3ymEf",
        "colab": {
          "base_uri": "https://localhost:8080/",
          "height": 206
        },
        "outputId": "67b28937-6308-48e3-9943-45c697b13c9f"
      },
      "source": [
        "one_hot = pd.get_dummies(df['Product'])\n",
        "# Drop column Product as it is now encoded\n",
        "df = df.drop('Product',axis = 1)\n",
        "# Join the encoded df\n",
        "df = df.join(one_hot)\n",
        "df.head()"
      ],
      "execution_count": 98,
      "outputs": [
        {
          "output_type": "execute_result",
          "data": {
            "text/html": [
              "\n",
              "  <div id=\"df-e34b6245-12bb-4e2f-8d26-1c5c62ebc4d5\">\n",
              "    <div class=\"colab-df-container\">\n",
              "      <div>\n",
              "<style scoped>\n",
              "    .dataframe tbody tr th:only-of-type {\n",
              "        vertical-align: middle;\n",
              "    }\n",
              "\n",
              "    .dataframe tbody tr th {\n",
              "        vertical-align: top;\n",
              "    }\n",
              "\n",
              "    .dataframe thead th {\n",
              "        text-align: right;\n",
              "    }\n",
              "</style>\n",
              "<table border=\"1\" class=\"dataframe\">\n",
              "  <thead>\n",
              "    <tr style=\"text-align: right;\">\n",
              "      <th></th>\n",
              "      <th>Age</th>\n",
              "      <th>Gender</th>\n",
              "      <th>Education</th>\n",
              "      <th>MaritalStatus</th>\n",
              "      <th>Usage</th>\n",
              "      <th>Fitness</th>\n",
              "      <th>Income</th>\n",
              "      <th>Miles</th>\n",
              "      <th>0</th>\n",
              "      <th>1</th>\n",
              "      <th>2</th>\n",
              "    </tr>\n",
              "  </thead>\n",
              "  <tbody>\n",
              "    <tr>\n",
              "      <th>0</th>\n",
              "      <td>18.0</td>\n",
              "      <td>1</td>\n",
              "      <td>14.0</td>\n",
              "      <td>1</td>\n",
              "      <td>3.0</td>\n",
              "      <td>4.0</td>\n",
              "      <td>29562.0</td>\n",
              "      <td>112.0</td>\n",
              "      <td>1</td>\n",
              "      <td>0</td>\n",
              "      <td>0</td>\n",
              "    </tr>\n",
              "    <tr>\n",
              "      <th>1</th>\n",
              "      <td>19.0</td>\n",
              "      <td>1</td>\n",
              "      <td>15.0</td>\n",
              "      <td>1</td>\n",
              "      <td>2.0</td>\n",
              "      <td>3.0</td>\n",
              "      <td>31836.0</td>\n",
              "      <td>75.0</td>\n",
              "      <td>1</td>\n",
              "      <td>0</td>\n",
              "      <td>0</td>\n",
              "    </tr>\n",
              "    <tr>\n",
              "      <th>2</th>\n",
              "      <td>19.0</td>\n",
              "      <td>0</td>\n",
              "      <td>14.0</td>\n",
              "      <td>0</td>\n",
              "      <td>4.0</td>\n",
              "      <td>3.0</td>\n",
              "      <td>30699.0</td>\n",
              "      <td>66.0</td>\n",
              "      <td>1</td>\n",
              "      <td>0</td>\n",
              "      <td>0</td>\n",
              "    </tr>\n",
              "    <tr>\n",
              "      <th>3</th>\n",
              "      <td>19.0</td>\n",
              "      <td>1</td>\n",
              "      <td>12.0</td>\n",
              "      <td>1</td>\n",
              "      <td>3.0</td>\n",
              "      <td>3.0</td>\n",
              "      <td>32973.0</td>\n",
              "      <td>85.0</td>\n",
              "      <td>1</td>\n",
              "      <td>0</td>\n",
              "      <td>0</td>\n",
              "    </tr>\n",
              "    <tr>\n",
              "      <th>4</th>\n",
              "      <td>20.0</td>\n",
              "      <td>1</td>\n",
              "      <td>13.0</td>\n",
              "      <td>0</td>\n",
              "      <td>4.0</td>\n",
              "      <td>2.0</td>\n",
              "      <td>35247.0</td>\n",
              "      <td>47.0</td>\n",
              "      <td>1</td>\n",
              "      <td>0</td>\n",
              "      <td>0</td>\n",
              "    </tr>\n",
              "  </tbody>\n",
              "</table>\n",
              "</div>\n",
              "      <button class=\"colab-df-convert\" onclick=\"convertToInteractive('df-e34b6245-12bb-4e2f-8d26-1c5c62ebc4d5')\"\n",
              "              title=\"Convert this dataframe to an interactive table.\"\n",
              "              style=\"display:none;\">\n",
              "        \n",
              "  <svg xmlns=\"http://www.w3.org/2000/svg\" height=\"24px\"viewBox=\"0 0 24 24\"\n",
              "       width=\"24px\">\n",
              "    <path d=\"M0 0h24v24H0V0z\" fill=\"none\"/>\n",
              "    <path d=\"M18.56 5.44l.94 2.06.94-2.06 2.06-.94-2.06-.94-.94-2.06-.94 2.06-2.06.94zm-11 1L8.5 8.5l.94-2.06 2.06-.94-2.06-.94L8.5 2.5l-.94 2.06-2.06.94zm10 10l.94 2.06.94-2.06 2.06-.94-2.06-.94-.94-2.06-.94 2.06-2.06.94z\"/><path d=\"M17.41 7.96l-1.37-1.37c-.4-.4-.92-.59-1.43-.59-.52 0-1.04.2-1.43.59L10.3 9.45l-7.72 7.72c-.78.78-.78 2.05 0 2.83L4 21.41c.39.39.9.59 1.41.59.51 0 1.02-.2 1.41-.59l7.78-7.78 2.81-2.81c.8-.78.8-2.07 0-2.86zM5.41 20L4 18.59l7.72-7.72 1.47 1.35L5.41 20z\"/>\n",
              "  </svg>\n",
              "      </button>\n",
              "      \n",
              "  <style>\n",
              "    .colab-df-container {\n",
              "      display:flex;\n",
              "      flex-wrap:wrap;\n",
              "      gap: 12px;\n",
              "    }\n",
              "\n",
              "    .colab-df-convert {\n",
              "      background-color: #E8F0FE;\n",
              "      border: none;\n",
              "      border-radius: 50%;\n",
              "      cursor: pointer;\n",
              "      display: none;\n",
              "      fill: #1967D2;\n",
              "      height: 32px;\n",
              "      padding: 0 0 0 0;\n",
              "      width: 32px;\n",
              "    }\n",
              "\n",
              "    .colab-df-convert:hover {\n",
              "      background-color: #E2EBFA;\n",
              "      box-shadow: 0px 1px 2px rgba(60, 64, 67, 0.3), 0px 1px 3px 1px rgba(60, 64, 67, 0.15);\n",
              "      fill: #174EA6;\n",
              "    }\n",
              "\n",
              "    [theme=dark] .colab-df-convert {\n",
              "      background-color: #3B4455;\n",
              "      fill: #D2E3FC;\n",
              "    }\n",
              "\n",
              "    [theme=dark] .colab-df-convert:hover {\n",
              "      background-color: #434B5C;\n",
              "      box-shadow: 0px 1px 3px 1px rgba(0, 0, 0, 0.15);\n",
              "      filter: drop-shadow(0px 1px 2px rgba(0, 0, 0, 0.3));\n",
              "      fill: #FFFFFF;\n",
              "    }\n",
              "  </style>\n",
              "\n",
              "      <script>\n",
              "        const buttonEl =\n",
              "          document.querySelector('#df-e34b6245-12bb-4e2f-8d26-1c5c62ebc4d5 button.colab-df-convert');\n",
              "        buttonEl.style.display =\n",
              "          google.colab.kernel.accessAllowed ? 'block' : 'none';\n",
              "\n",
              "        async function convertToInteractive(key) {\n",
              "          const element = document.querySelector('#df-e34b6245-12bb-4e2f-8d26-1c5c62ebc4d5');\n",
              "          const dataTable =\n",
              "            await google.colab.kernel.invokeFunction('convertToInteractive',\n",
              "                                                     [key], {});\n",
              "          if (!dataTable) return;\n",
              "\n",
              "          const docLinkHtml = 'Like what you see? Visit the ' +\n",
              "            '<a target=\"_blank\" href=https://colab.research.google.com/notebooks/data_table.ipynb>data table notebook</a>'\n",
              "            + ' to learn more about interactive tables.';\n",
              "          element.innerHTML = '';\n",
              "          dataTable['output_type'] = 'display_data';\n",
              "          await google.colab.output.renderOutput(dataTable, element);\n",
              "          const docLink = document.createElement('div');\n",
              "          docLink.innerHTML = docLinkHtml;\n",
              "          element.appendChild(docLink);\n",
              "        }\n",
              "      </script>\n",
              "    </div>\n",
              "  </div>\n",
              "  "
            ],
            "text/plain": [
              "    Age  Gender  Education  MaritalStatus  Usage  ...   Income  Miles  0  1  2\n",
              "0  18.0       1       14.0              1    3.0  ...  29562.0  112.0  1  0  0\n",
              "1  19.0       1       15.0              1    2.0  ...  31836.0   75.0  1  0  0\n",
              "2  19.0       0       14.0              0    4.0  ...  30699.0   66.0  1  0  0\n",
              "3  19.0       1       12.0              1    3.0  ...  32973.0   85.0  1  0  0\n",
              "4  20.0       1       13.0              0    4.0  ...  35247.0   47.0  1  0  0\n",
              "\n",
              "[5 rows x 11 columns]"
            ]
          },
          "metadata": {},
          "execution_count": 98
        }
      ]
    },
    {
      "cell_type": "markdown",
      "metadata": {
        "id": "pNUDYL4mxs5y"
      },
      "source": [
        "**Training and Testing Dataset**"
      ]
    },
    {
      "cell_type": "code",
      "metadata": {
        "id": "z-vU4u_f6UHM"
      },
      "source": [
        "from sklearn.model_selection import train_test_split\n",
        "y=df['Fitness'].values\n",
        "x=df.drop('Fitness',axis=1).values\n",
        "x_train, x_test, y_train, y_test = train_test_split(x, y, train_size=0.70,test_size=0.30, random_state=0)"
      ],
      "execution_count": 99,
      "outputs": []
    },
    {
      "cell_type": "markdown",
      "metadata": {
        "id": "0GQ3CkABp8Zg"
      },
      "source": [
        "We have used, train_test_split() function that we imported from sklearn to split the data. Notice we have used test_size=0.30 to make the test data 30% of the original data. The rest 70% is used for training."
      ]
    },
    {
      "cell_type": "markdown",
      "metadata": {
        "id": "sW9gkSbHxgjW"
      },
      "source": [
        "# **LinearRegression**"
      ]
    },
    {
      "cell_type": "markdown",
      "metadata": {
        "id": "6l8JnaWLqIbC"
      },
      "source": [
        "Linear regression uses a linear model to predict the relationship between two or more variables or factors."
      ]
    },
    {
      "cell_type": "code",
      "metadata": {
        "id": "0AWyc2IZroQ5"
      },
      "source": [
        "from sklearn.linear_model import LinearRegression\n",
        "from sklearn.metrics import mean_squared_error\n",
        "from sklearn.metrics import mean_absolute_error\n",
        "from sklearn.metrics import r2_score"
      ],
      "execution_count": 100,
      "outputs": []
    },
    {
      "cell_type": "code",
      "metadata": {
        "id": "TAQEGz4NB_D1",
        "colab": {
          "base_uri": "https://localhost:8080/"
        },
        "outputId": "dcc92b78-1ebb-4d76-c41d-10ffeb29840c"
      },
      "source": [
        "linearRegressor=LinearRegression()\n",
        "linearRegressor.fit(x_train, y_train)\n",
        "print('Train accuracy score : ', linearRegressor.score(x_train, y_train))\n",
        "print('Test accuracy score : ', linearRegressor.score(x_test, y_test))\n",
        "LR = linearRegressor.score(x_train, y_train)"
      ],
      "execution_count": 101,
      "outputs": [
        {
          "output_type": "stream",
          "name": "stdout",
          "text": [
            "Train accuracy score :  0.7250457933126906\n",
            "Test accuracy score :  0.014696679018929903\n"
          ]
        }
      ]
    },
    {
      "cell_type": "code",
      "metadata": {
        "id": "EtMfUj11sEFX",
        "colab": {
          "base_uri": "https://localhost:8080/"
        },
        "outputId": "40f74692-bf2c-4d54-c968-d04fa5465f2a"
      },
      "source": [
        "linearRegressor = LinearRegression()\n",
        "linearRegressor.fit(x_train, y_train)\n",
        "y_predicted = linearRegressor.predict(x_test)\n",
        "mse = mean_squared_error(y_test, y_predicted)\n",
        "r = r2_score(y_test, y_predicted)\n",
        "mae = mean_absolute_error(y_test,y_predicted)\n",
        "print(\"Mean Squared Error:\",mse)\n",
        "print(\"R score:\",r)\n",
        "print(\"Mean Absolute Error:\",mae)"
      ],
      "execution_count": 102,
      "outputs": [
        {
          "output_type": "stream",
          "name": "stdout",
          "text": [
            "Mean Squared Error: 0.30536259947760436\n",
            "R score: 0.014696679018929903\n",
            "Mean Absolute Error: 0.39666737282134296\n"
          ]
        }
      ]
    },
    {
      "cell_type": "markdown",
      "metadata": {
        "id": "WtlkfD8ZxN-R"
      },
      "source": [
        "# **DecisionTree**"
      ]
    },
    {
      "cell_type": "markdown",
      "metadata": {
        "id": "2oQ2oe2PqTq8"
      },
      "source": [
        "Decision tree builds regression or classification models in the form of a tree structure. It breaks down a dataset into smaller and smaller subsets while at the same time an associated decision tree is incrementally developed."
      ]
    },
    {
      "cell_type": "code",
      "metadata": {
        "id": "pdvy4r4iBxA-",
        "colab": {
          "base_uri": "https://localhost:8080/"
        },
        "outputId": "3cc989f0-8095-45f8-b9c1-913f1db78795"
      },
      "source": [
        "from sklearn.tree import DecisionTreeRegressor\n",
        "regressor=DecisionTreeRegressor()\n",
        "regressor.fit(x_train, y_train)\n",
        "print('Train accuracy score : ', regressor.score(x_train, y_train))\n",
        "print('Test accuracy score : ', regressor.score(x_test, y_test))\n",
        "DT = regressor.score(x_train, y_train)"
      ],
      "execution_count": 103,
      "outputs": [
        {
          "output_type": "stream",
          "name": "stdout",
          "text": [
            "Train accuracy score :  1.0\n",
            "Test accuracy score :  -0.46666666666666656\n"
          ]
        }
      ]
    },
    {
      "cell_type": "code",
      "metadata": {
        "id": "F1YxgIHurCIt",
        "colab": {
          "base_uri": "https://localhost:8080/"
        },
        "outputId": "c8bf7257-7df1-499b-f63f-e02987a3c623"
      },
      "source": [
        "regressor = DecisionTreeRegressor(random_state = 0)\n",
        "regressor.fit(x_train, y_train)\n",
        "y_predicted_d = regressor.predict(x_test)\n",
        "mse1 = mean_squared_error(y_test, y_predicted_d)\n",
        "r1 = r2_score(y_test, y_predicted_d)\n",
        "mae1 = mean_absolute_error(y_test,y_predicted_d)\n",
        "print(\"Mean Squared Error:\",mse1)\n",
        "print(\"R score:\",r1)\n",
        "print(\"Mean Absolute Error:\",mae1)"
      ],
      "execution_count": 104,
      "outputs": [
        {
          "output_type": "stream",
          "name": "stdout",
          "text": [
            "Mean Squared Error: 0.4318181818181818\n",
            "R score: -0.3933333333333333\n",
            "Mean Absolute Error: 0.38636363636363635\n"
          ]
        }
      ]
    },
    {
      "cell_type": "markdown",
      "metadata": {
        "id": "Mxxwl26bxHrI"
      },
      "source": [
        "# **Random Forest**"
      ]
    },
    {
      "cell_type": "markdown",
      "metadata": {
        "id": "dPNuZrxPqYGC"
      },
      "source": [
        "Random forest, like its name implies, consists of a large number of individual decision trees that operate as an ensemble."
      ]
    },
    {
      "cell_type": "code",
      "metadata": {
        "id": "5KUknO2NBTjJ",
        "colab": {
          "base_uri": "https://localhost:8080/"
        },
        "outputId": "7b8f8eff-b42a-4015-b3f2-89fa89e67318"
      },
      "source": [
        "from sklearn.ensemble import RandomForestRegressor\n",
        "rf = RandomForestRegressor()\n",
        "rf.fit(x_train, y_train)\n",
        "print('Train accuracy score : ', rf.score(x_train, y_train))\n",
        "print('Test accuracy score : ', rf.score(x_test, y_test))\n",
        "RF = rf.score(x_train, y_train)"
      ],
      "execution_count": 105,
      "outputs": [
        {
          "output_type": "stream",
          "name": "stdout",
          "text": [
            "Train accuracy score :  0.9461256595431098\n",
            "Test accuracy score :  0.0730666666666665\n"
          ]
        }
      ]
    },
    {
      "cell_type": "code",
      "metadata": {
        "id": "TKXoffIhsHU1",
        "colab": {
          "base_uri": "https://localhost:8080/"
        },
        "outputId": "592323ba-d04e-4479-f963-7fbe73f79980"
      },
      "source": [
        "rf = RandomForestRegressor()\n",
        "rf.fit(x_train,y_train);\n",
        "y_predicted_r = rf.predict(x_test)\n",
        "mse2 = mean_squared_error(y_test, y_predicted_r)\n",
        "r2 = r2_score(y_test, y_predicted_r)\n",
        "mae2 = mean_absolute_error(y_test,y_predicted_r)\n",
        "print(\"Mean Squared Error:\",mse2)\n",
        "print(\"R score:\",r2)\n",
        "print(\"Mean Absolute Error:\",mae2)"
      ],
      "execution_count": 106,
      "outputs": [
        {
          "output_type": "stream",
          "name": "stdout",
          "text": [
            "Mean Squared Error: 0.2733636363636363\n",
            "R score: 0.11794666666666676\n",
            "Mean Absolute Error: 0.3372727272727273\n"
          ]
        }
      ]
    },
    {
      "cell_type": "markdown",
      "metadata": {
        "id": "YqVSRBzJwziL"
      },
      "source": [
        "# **KNN**"
      ]
    },
    {
      "cell_type": "code",
      "metadata": {
        "id": "kG_I_dANBpwb",
        "colab": {
          "base_uri": "https://localhost:8080/"
        },
        "outputId": "6043e14b-af0d-48e3-dff3-e8a435e9f4f9"
      },
      "source": [
        "from sklearn.neighbors import KNeighborsRegressor\n",
        "KNN=KNeighborsRegressor()\n",
        "KNN.fit(x_train, y_train)\n",
        "print('Train accuracy score : ', KNN.score(x_train, y_train))\n",
        "print('Test accuracy score : ', KNN.score(x_test, y_test))\n",
        "KNN1 = KNN.score(x_train, y_train)"
      ],
      "execution_count": 107,
      "outputs": [
        {
          "output_type": "stream",
          "name": "stdout",
          "text": [
            "Train accuracy score :  0.36379661016949216\n",
            "Test accuracy score :  0.07013333333333349\n"
          ]
        }
      ]
    },
    {
      "cell_type": "code",
      "metadata": {
        "id": "_QP-SrfrwKPr",
        "colab": {
          "base_uri": "https://localhost:8080/"
        },
        "outputId": "ff908f7d-cad8-4b8e-8d56-d233add9a493"
      },
      "source": [
        "KNN = KNeighborsRegressor()\n",
        "KNN.fit(x_train,y_train);\n",
        "y_predicted_r = KNN.predict(x_test)\n",
        "mse3 = mean_squared_error(y_test, y_predicted_r)\n",
        "r3 = r2_score(y_test, y_predicted_r)\n",
        "mae3 = mean_absolute_error(y_test,y_predicted_r)\n",
        "print(\"Mean Squared Error:\",mse3)\n",
        "print(\"R score:\",r3)\n",
        "print(\"Mean Absolute Error:\",mae3)"
      ],
      "execution_count": 108,
      "outputs": [
        {
          "output_type": "stream",
          "name": "stdout",
          "text": [
            "Mean Squared Error: 0.28818181818181815\n",
            "R score: 0.07013333333333349\n",
            "Mean Absolute Error: 0.4227272727272727\n"
          ]
        }
      ]
    },
    {
      "cell_type": "markdown",
      "metadata": {
        "id": "H4kcadCjSqrg"
      },
      "source": [
        "# **Comparision Of Models**"
      ]
    },
    {
      "cell_type": "code",
      "metadata": {
        "id": "OJD645pQDn2F",
        "colab": {
          "base_uri": "https://localhost:8080/",
          "height": 175
        },
        "outputId": "9c5faf5a-ff87-41a6-a3d4-914ccdf66642"
      },
      "source": [
        "Comparision = {\n",
        "    'Models':['LinearRegression','Decision_Tree','RandomForest','KNN'],\n",
        "    \n",
        "        'Accuracy' : [LR, DT, RF, KNN1],\n",
        "        'Mean Squared Error': [mse,mse1,mse2,mse3],\n",
        "        'R score':[r,r1,r2,r3],\n",
        "        'Mean Absolute Error':[mae,mae1,mae2,mae3],\n",
        "        }\n",
        " \n",
        "models = pd.DataFrame(Comparision)\n",
        "models"
      ],
      "execution_count": 109,
      "outputs": [
        {
          "output_type": "execute_result",
          "data": {
            "text/html": [
              "\n",
              "  <div id=\"df-46e3bfe5-fcb1-4d08-ba80-39800c3153c4\">\n",
              "    <div class=\"colab-df-container\">\n",
              "      <div>\n",
              "<style scoped>\n",
              "    .dataframe tbody tr th:only-of-type {\n",
              "        vertical-align: middle;\n",
              "    }\n",
              "\n",
              "    .dataframe tbody tr th {\n",
              "        vertical-align: top;\n",
              "    }\n",
              "\n",
              "    .dataframe thead th {\n",
              "        text-align: right;\n",
              "    }\n",
              "</style>\n",
              "<table border=\"1\" class=\"dataframe\">\n",
              "  <thead>\n",
              "    <tr style=\"text-align: right;\">\n",
              "      <th></th>\n",
              "      <th>Models</th>\n",
              "      <th>Accuracy</th>\n",
              "      <th>Mean Squared Error</th>\n",
              "      <th>R score</th>\n",
              "      <th>Mean Absolute Error</th>\n",
              "    </tr>\n",
              "  </thead>\n",
              "  <tbody>\n",
              "    <tr>\n",
              "      <th>0</th>\n",
              "      <td>LinearRegression</td>\n",
              "      <td>0.725046</td>\n",
              "      <td>0.305363</td>\n",
              "      <td>0.014697</td>\n",
              "      <td>0.396667</td>\n",
              "    </tr>\n",
              "    <tr>\n",
              "      <th>1</th>\n",
              "      <td>Decision_Tree</td>\n",
              "      <td>1.000000</td>\n",
              "      <td>0.431818</td>\n",
              "      <td>-0.393333</td>\n",
              "      <td>0.386364</td>\n",
              "    </tr>\n",
              "    <tr>\n",
              "      <th>2</th>\n",
              "      <td>RandomForest</td>\n",
              "      <td>0.946126</td>\n",
              "      <td>0.273364</td>\n",
              "      <td>0.117947</td>\n",
              "      <td>0.337273</td>\n",
              "    </tr>\n",
              "    <tr>\n",
              "      <th>3</th>\n",
              "      <td>KNN</td>\n",
              "      <td>0.363797</td>\n",
              "      <td>0.288182</td>\n",
              "      <td>0.070133</td>\n",
              "      <td>0.422727</td>\n",
              "    </tr>\n",
              "  </tbody>\n",
              "</table>\n",
              "</div>\n",
              "      <button class=\"colab-df-convert\" onclick=\"convertToInteractive('df-46e3bfe5-fcb1-4d08-ba80-39800c3153c4')\"\n",
              "              title=\"Convert this dataframe to an interactive table.\"\n",
              "              style=\"display:none;\">\n",
              "        \n",
              "  <svg xmlns=\"http://www.w3.org/2000/svg\" height=\"24px\"viewBox=\"0 0 24 24\"\n",
              "       width=\"24px\">\n",
              "    <path d=\"M0 0h24v24H0V0z\" fill=\"none\"/>\n",
              "    <path d=\"M18.56 5.44l.94 2.06.94-2.06 2.06-.94-2.06-.94-.94-2.06-.94 2.06-2.06.94zm-11 1L8.5 8.5l.94-2.06 2.06-.94-2.06-.94L8.5 2.5l-.94 2.06-2.06.94zm10 10l.94 2.06.94-2.06 2.06-.94-2.06-.94-.94-2.06-.94 2.06-2.06.94z\"/><path d=\"M17.41 7.96l-1.37-1.37c-.4-.4-.92-.59-1.43-.59-.52 0-1.04.2-1.43.59L10.3 9.45l-7.72 7.72c-.78.78-.78 2.05 0 2.83L4 21.41c.39.39.9.59 1.41.59.51 0 1.02-.2 1.41-.59l7.78-7.78 2.81-2.81c.8-.78.8-2.07 0-2.86zM5.41 20L4 18.59l7.72-7.72 1.47 1.35L5.41 20z\"/>\n",
              "  </svg>\n",
              "      </button>\n",
              "      \n",
              "  <style>\n",
              "    .colab-df-container {\n",
              "      display:flex;\n",
              "      flex-wrap:wrap;\n",
              "      gap: 12px;\n",
              "    }\n",
              "\n",
              "    .colab-df-convert {\n",
              "      background-color: #E8F0FE;\n",
              "      border: none;\n",
              "      border-radius: 50%;\n",
              "      cursor: pointer;\n",
              "      display: none;\n",
              "      fill: #1967D2;\n",
              "      height: 32px;\n",
              "      padding: 0 0 0 0;\n",
              "      width: 32px;\n",
              "    }\n",
              "\n",
              "    .colab-df-convert:hover {\n",
              "      background-color: #E2EBFA;\n",
              "      box-shadow: 0px 1px 2px rgba(60, 64, 67, 0.3), 0px 1px 3px 1px rgba(60, 64, 67, 0.15);\n",
              "      fill: #174EA6;\n",
              "    }\n",
              "\n",
              "    [theme=dark] .colab-df-convert {\n",
              "      background-color: #3B4455;\n",
              "      fill: #D2E3FC;\n",
              "    }\n",
              "\n",
              "    [theme=dark] .colab-df-convert:hover {\n",
              "      background-color: #434B5C;\n",
              "      box-shadow: 0px 1px 3px 1px rgba(0, 0, 0, 0.15);\n",
              "      filter: drop-shadow(0px 1px 2px rgba(0, 0, 0, 0.3));\n",
              "      fill: #FFFFFF;\n",
              "    }\n",
              "  </style>\n",
              "\n",
              "      <script>\n",
              "        const buttonEl =\n",
              "          document.querySelector('#df-46e3bfe5-fcb1-4d08-ba80-39800c3153c4 button.colab-df-convert');\n",
              "        buttonEl.style.display =\n",
              "          google.colab.kernel.accessAllowed ? 'block' : 'none';\n",
              "\n",
              "        async function convertToInteractive(key) {\n",
              "          const element = document.querySelector('#df-46e3bfe5-fcb1-4d08-ba80-39800c3153c4');\n",
              "          const dataTable =\n",
              "            await google.colab.kernel.invokeFunction('convertToInteractive',\n",
              "                                                     [key], {});\n",
              "          if (!dataTable) return;\n",
              "\n",
              "          const docLinkHtml = 'Like what you see? Visit the ' +\n",
              "            '<a target=\"_blank\" href=https://colab.research.google.com/notebooks/data_table.ipynb>data table notebook</a>'\n",
              "            + ' to learn more about interactive tables.';\n",
              "          element.innerHTML = '';\n",
              "          dataTable['output_type'] = 'display_data';\n",
              "          await google.colab.output.renderOutput(dataTable, element);\n",
              "          const docLink = document.createElement('div');\n",
              "          docLink.innerHTML = docLinkHtml;\n",
              "          element.appendChild(docLink);\n",
              "        }\n",
              "      </script>\n",
              "    </div>\n",
              "  </div>\n",
              "  "
            ],
            "text/plain": [
              "             Models  Accuracy  ...   R score  Mean Absolute Error\n",
              "0  LinearRegression  0.725046  ...  0.014697             0.396667\n",
              "1     Decision_Tree  1.000000  ... -0.393333             0.386364\n",
              "2      RandomForest  0.946126  ...  0.117947             0.337273\n",
              "3               KNN  0.363797  ...  0.070133             0.422727\n",
              "\n",
              "[4 rows x 5 columns]"
            ]
          },
          "metadata": {},
          "execution_count": 109
        }
      ]
    },
    {
      "cell_type": "code",
      "metadata": {
        "id": "oaRe7YOjLrGk",
        "colab": {
          "base_uri": "https://localhost:8080/",
          "height": 415
        },
        "outputId": "84cf1c14-2c21-42e5-f30d-35a005777620"
      },
      "source": [
        "plt.figure(figsize=(15,7)) \n",
        "X = models['Models']\n",
        "Mse = models['Mean Squared Error']\n",
        "Rscore =models['R score']\n",
        "Mae =models['Mean Absolute Error']\n",
        "  \n",
        "X_axis = np.arange(len(X))\n",
        "barWidth = 0.25\n",
        "# Set position of bar on X axis\n",
        "pos1 = np.arange(len(X))\n",
        "pos2 = [x + barWidth for x in pos1]\n",
        "pos3 = [x + barWidth for x in pos2]\n",
        "  \n",
        "plt.bar(pos1,Mse,width=barWidth, label = 'Mean Squared Error')\n",
        "plt.bar(pos2,Rscore,width=barWidth, label = 'R score')\n",
        "plt.bar(pos3,Mae,width=barWidth, label = 'Mean Absolute Error')\n",
        "  \n",
        "plt.xticks(X_axis, X)\n",
        "plt.xlabel(\"Models\",fontweight='bold')\n",
        "plt.ylabel(\"Scores\",fontweight='bold')\n",
        "\n",
        "plt.title(\"$Scores$ $Comparision$ $Of$ $Models$\")\n",
        "plt.legend(loc='upper right',bbox_to_anchor=(1.2, 1.0))\n",
        "plt.show()"
      ],
      "execution_count": 110,
      "outputs": [
        {
          "output_type": "display_data",
          "data": {
            "image/png": "[encoded data removed]",
            "text/plain": [
              "<Figure size 1080x504 with 1 Axes>"
            ]
          },
          "metadata": {
            "needs_background": "light"
          }
        }
      ]
    }
  ]
}